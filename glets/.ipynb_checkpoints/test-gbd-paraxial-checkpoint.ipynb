{
 "cells": [
  {
   "cell_type": "code",
   "execution_count": 1,
   "id": "53f04279",
   "metadata": {},
   "outputs": [
    {
     "name": "stdout",
     "output_type": "stream",
     "text": [
      "numexpr sees numcores =  8\n",
      "numexpr sees numthreads =  8\n",
      "numexpr sees max threads =  96\n",
      "numba threads =  8\n"
     ]
    }
   ],
   "source": [
    "import numpy as np\n",
    "import gbd\n",
    "import raytrace as rt\n",
    "import utils as ut\n",
    "from scipy.io import loadmat\n",
    "import matplotlib.pyplot as plt\n",
    "from IPython.display import Audio\n",
    "sound_file = './sound/beep.wav'\n",
    "\n",
    "def filter_offdiagonal_abcd(ABCD):\n",
    "    \n",
    "    # A Submatrix\n",
    "    ABCD[0,1,:] = 0\n",
    "    ABCD[1,0,:] = 0\n",
    "    \n",
    "    # B Submatrix\n",
    "    ABCD[0,3,:] = 0\n",
    "    ABCD[1,2,:] = 0\n",
    "    \n",
    "    # C Submatrix\n",
    "    ABCD[2,1,:] = 0\n",
    "    ABCD[3,0,:] = 0\n",
    "    \n",
    "    # D Submatrix\n",
    "    ABCD[2,3,:] = 0\n",
    "    ABCD[3,2,:] = 0\n",
    "    \n",
    "    return ABCD\n",
    "\n",
    "def diagonalize_abcd(ABCD):\n",
    "    \n",
    "    from numpy.linalg import eig,inv\n",
    "    \n",
    "    abcd_box = np.zeros(ABCD.shape)\n",
    "    \n",
    "    for i in range(ABCD.shape[-1]):\n",
    "        \n",
    "        evals,evecs = eig(ABCD[:,:,i])\n",
    "        abcd_box[:,:,i] = inv(evecs) @ ABCD[:,:,i] @ evecs\n",
    "        \n",
    "    return abcd_box"
   ]
  },
  {
   "cell_type": "code",
   "execution_count": null,
   "id": "eb20b220",
   "metadata": {},
   "outputs": [],
   "source": []
  },
  {
   "cell_type": "code",
   "execution_count": 2,
   "id": "e9774180",
   "metadata": {},
   "outputs": [
    {
     "name": "stdout",
     "output_type": "stream",
     "text": [
      "wo =  0.02024  [m]\n"
     ]
    }
   ],
   "source": [
    "# set up optical system\n",
    "wl = 2.2e-6\n",
    "npix = 256\n",
    "size = 2.4\n",
    "\n",
    "# set up detector\n",
    "dsize = 1.22*wl*(57.6/2.4)*25\n",
    "x = np.linspace(-dsize/2,dsize/2,npix)\n",
    "x,y = np.meshgrid(x,x)\n",
    "\n",
    "# set up gaussian\n",
    "wo = 9200*wl\n",
    "zr = np.pi * wo**2 / wl # meters\n",
    "q  = 1j*zr\n",
    "qinv = 1/q\n",
    "k = 2*np.pi/wl\n",
    "\n",
    "# an orthogonal beamlet\n",
    "Qinv = np.array([[qinv,0],\n",
    "                 [0,qinv]])\n",
    "\n",
    "print('wo = ',wo,' [m]')"
   ]
  },
  {
   "cell_type": "code",
   "execution_count": null,
   "id": "a5f52352",
   "metadata": {},
   "outputs": [],
   "source": []
  },
  {
   "cell_type": "code",
   "execution_count": 3,
   "id": "016ea932",
   "metadata": {},
   "outputs": [
    {
     "name": "stdout",
     "output_type": "stream",
     "text": [
      "centroid =  0.0 -0.0046564569049630045\n"
     ]
    }
   ],
   "source": [
    "# create rayset\n",
    "# 9200wl is to fit to the Zemax data set\n",
    "rays = gbd.ComputeRaysFromOF(1.7,size,wo)\n",
    "\n",
    "# Convert ABCD \n",
    "pth_to_gbd_data = '/Users/jashcraft/Desktop/gbd-data/'\n",
    "# rtm_pth = 'Hubble_nominal.mat'\n",
    "rtm_pth = 'Hubble_YDEC5E-4.mat'\n",
    "pth = pth_to_gbd_data + rtm_pth\n",
    "ABCD = loadmat(pth)['plotbox']\n",
    "# ABCD = filter_offdiagonal_abcd(ABCD)\n",
    "# ABCD = diagonalize_abcd(ABCD)\n",
    "\n",
    "# Convert lo\n",
    "lo_pth = 'Hubble_Onax_lo.mat'\n",
    "pth = pth_to_gbd_data + lo_pth\n",
    "lo = np.squeeze(loadmat(pth)['lo'])\n",
    "\n",
    "# Artificial ABCD appears to work as expected!\n",
    "# efl = 57.6\n",
    "# dis = 57.6\n",
    "# abcd = np.array([[1-dis/efl + 1e-20,0,dis,0],\n",
    "#                  [0,1-dis/efl + 1e-20,0,dis],\n",
    "#                  [-1/efl,0,1,0],\n",
    "#                  [0,-1/efl,0,1]])\n",
    "\n",
    "# abcd_box = np.zeros([4,4,rays.shape[1]])\n",
    "\n",
    "# for ijk in range(rays.shape[1]):\n",
    "    \n",
    "#     abcd_box[:,:,ijk] = abcd\n",
    "    \n",
    "# ABCD = abcd_box\n",
    "\n",
    "# Load rays out\n",
    "# rayout_pth = 'rayout_onax.mat'\n",
    "rayout_pth = 'rayout_YDEC5E-4.mat'\n",
    "pth = pth_to_gbd_data + rayout_pth\n",
    "zmxraysout = loadmat(pth)['rays']\n",
    "zmx_x = zmxraysout[0,:]\n",
    "zmx_y = zmxraysout[1,:]\n",
    "zmx_u = zmxraysout[2,:]\n",
    "zmx_v = zmxraysout[3,:]\n",
    "zmx_raysout = np.array([zmx_x,zmx_y,zmx_u,zmx_v])\n",
    "\n",
    "# Check against pupilcords\n",
    "# ray_pth = 'rayin_onax.mat'\n",
    "ray_pth = 'rayin_YDEC5E-4.mat'\n",
    "pth = pth_to_gbd_data + ray_pth\n",
    "zmxrays = loadmat(pth)['rays']\n",
    "zmx_x = zmxrays[0,:]\n",
    "zmx_y = zmxrays[1,:]\n",
    "zmx_rays = np.array([zmx_x,zmx_y,zmx_x*0,zmx_y*0])\n",
    "\n",
    "# filter outside of circle - nonparaxial zemax data\n",
    "ABCD = ABCD[:,:,np.sqrt(zmx_x**2 + zmx_y**2) <= (1.2)]\n",
    "zmx_rays = zmx_rays[:,np.sqrt(zmx_x**2 + zmx_y**2) <= (1.2)]\n",
    "zmx_raysout = zmx_raysout[:,np.sqrt(zmx_x**2 + zmx_y**2) <= (1.2)]\n",
    "lo = lo[np.sqrt(zmx_x**2 + zmx_y**2) <= (1.2)]\n",
    "\n",
    "rays = rays[:,np.sqrt(rays[0,:]**2 + rays[1,:]**2) <= (1.2)]\n",
    "\n",
    "# ABCD = ABCD[:,:,np.sqrt(rays[0,:]**2 + rays[1,:]**2) <= (1.2-wo/2)]\n",
    "# rays = rays[:,np.sqrt(rays[0,:]**2 + rays[1,:]**2) <= (1.2-wo/2)]\n",
    "\n",
    "# Compute centroid\n",
    "x_cen = np.mean(zmx_raysout[0,:])\n",
    "y_cen = np.mean(zmx_raysout[1,:])\n",
    "print('centroid = ',x_cen,y_cen)"
   ]
  },
  {
   "cell_type": "code",
   "execution_count": null,
   "id": "566342da",
   "metadata": {
    "scrolled": false
   },
   "outputs": [
    {
     "name": "stdout",
     "output_type": "stream",
     "text": [
      "Number of Gausslets =  7845\n"
     ]
    }
   ],
   "source": [
    "%%time\n",
    "field = gbd.EvalGausslets(x+x_cen,y+y_cen,zmx_rays,Qinv,k,ABCD,npix,raysout=zmx_raysout,lo=None)"
   ]
  },
  {
   "cell_type": "code",
   "execution_count": null,
   "id": "d36fe46a",
   "metadata": {},
   "outputs": [],
   "source": [
    "plt.figure()\n",
    "plt.title('Eikonal along Optical Axis')\n",
    "plt.scatter(zmx_rays[0,:],zmx_rays[1,:],c=lo)\n",
    "plt.colorbar()"
   ]
  },
  {
   "cell_type": "code",
   "execution_count": null,
   "id": "bbf1f680",
   "metadata": {},
   "outputs": [],
   "source": []
  },
  {
   "cell_type": "code",
   "execution_count": null,
   "id": "2c245552",
   "metadata": {},
   "outputs": [],
   "source": [
    "irrad = np.abs(field*np.conj(field))\n",
    "phase = np.angle(field)\n",
    "\n",
    "ut.amp_phase_plot(field,logintensity=True)"
   ]
  },
  {
   "cell_type": "code",
   "execution_count": null,
   "id": "30569883",
   "metadata": {},
   "outputs": [],
   "source": [
    "import importlib\n",
    "importlib.reload(ut)\n",
    "ut.fourbyfour(ABCD,zmx_rays[0,:],zmx_rays[1,:],size=1)\n",
    "\n",
    "ABCD[:,:,zmx_rays[0,:]**2 + zmx_rays[1,:]**2 == 0]"
   ]
  },
  {
   "cell_type": "code",
   "execution_count": null,
   "id": "756c03ff",
   "metadata": {},
   "outputs": [],
   "source": [
    "plt.figure(figsize=[10,5])\n",
    "plt.subplot(121)\n",
    "plt.scatter(zmx_rays[0,:],zmx_rays[1,:])\n",
    "plt.subplot(122)\n",
    "plt.scatter(zmx_rays[2,:],zmx_rays[3,:])\n",
    "plt.show()\n",
    "\n",
    "zmx_prop = rt.matmultrays(ABCD,zmx_rays)\n",
    "\n",
    "plt.figure(figsize=[10,5])\n",
    "plt.subplot(121)\n",
    "plt.scatter(zmx_raysout[0,:],zmx_raysout[1,:])\n",
    "plt.subplot(122)\n",
    "plt.scatter(zmx_raysout[2,:],zmx_raysout[3,:])\n",
    "plt.show()"
   ]
  },
  {
   "cell_type": "code",
   "execution_count": null,
   "id": "8aa63129",
   "metadata": {},
   "outputs": [],
   "source": []
  },
  {
   "cell_type": "code",
   "execution_count": null,
   "id": "91cfcee4",
   "metadata": {},
   "outputs": [],
   "source": []
  },
  {
   "cell_type": "code",
   "execution_count": null,
   "id": "4fafad3f",
   "metadata": {},
   "outputs": [],
   "source": [
    "# Compare against Zemax Huygens PSF\n",
    "pth = pth_to_gbd_data + 'Hubble_YDEC5E-4_huygenspsf.txt'\n",
    "huygenspsf = np.loadtxt(pth,delimiter='\\t',encoding='UTF-16',skiprows=21)\n",
    "huygens = huygenspsf/np.sum(huygenspsf)"
   ]
  },
  {
   "cell_type": "code",
   "execution_count": null,
   "id": "f9f1890a",
   "metadata": {},
   "outputs": [],
   "source": [
    "field_psf = field/np.sum(field)\n",
    "from scipy.ndimage import shift\n",
    "field_psf_shifted = shift(field_psf,[-0.5,0.5])\n",
    "ut.amp_phase_plot(huygens-np.abs(field_psf_shifted),logintensity=False)"
   ]
  },
  {
   "cell_type": "code",
   "execution_count": null,
   "id": "9d105443",
   "metadata": {},
   "outputs": [],
   "source": [
    "\n",
    "wo = 2.4*1.7/202"
   ]
  },
  {
   "cell_type": "code",
   "execution_count": null,
   "id": "0510d9dd",
   "metadata": {},
   "outputs": [],
   "source": [
    "wo"
   ]
  },
  {
   "cell_type": "code",
   "execution_count": null,
   "id": "c47fe90f",
   "metadata": {},
   "outputs": [],
   "source": [
    "wop = 2.4*1.7/202\n",
    "wo = 9200*wl\n",
    "print(wop)\n",
    "print(wo)"
   ]
  },
  {
   "cell_type": "code",
   "execution_count": null,
   "id": "2f937e96",
   "metadata": {},
   "outputs": [],
   "source": [
    "Q = np.array([[1,2],\n",
    "              [3,4]])\n",
    "\n",
    "A = np.array([[5,6],\n",
    "              [7,8]])\n",
    "\n",
    "B = np.array([[9,10],\n",
    "              [11,12]])\n",
    "\n",
    "np.linalg.inv(A)"
   ]
  },
  {
   "cell_type": "code",
   "execution_count": null,
   "id": "59418fb7",
   "metadata": {},
   "outputs": [],
   "source": [
    "-4*9 + 3*11 + 1"
   ]
  },
  {
   "cell_type": "code",
   "execution_count": null,
   "id": "93b45b4c",
   "metadata": {},
   "outputs": [],
   "source": [
    "-4*10+3*12 + 2"
   ]
  },
  {
   "cell_type": "code",
   "execution_count": null,
   "id": "289f23b6",
   "metadata": {},
   "outputs": [],
   "source": [
    "-3.5*9 - 2.5*11 + 3"
   ]
  },
  {
   "cell_type": "code",
   "execution_count": null,
   "id": "bc119af7",
   "metadata": {},
   "outputs": [],
   "source": [
    "-3.5*10-2.5*12 + 4"
   ]
  },
  {
   "cell_type": "code",
   "execution_count": null,
   "id": "f94ff357",
   "metadata": {},
   "outputs": [],
   "source": [
    "Q + np.linalg.inv(A) @ B"
   ]
  },
  {
   "cell_type": "code",
   "execution_count": null,
   "id": "91849693",
   "metadata": {},
   "outputs": [],
   "source": [
    "def Inv(M):\n",
    "    a = M[0,0]\n",
    "    b = M[0,1]\n",
    "    c = M[1,0]\n",
    "    d = M[1,1]\n",
    "\n",
    "    return 1/(a*d - b*c)*np.array([[d,-b],\n",
    "                                   [-c,a]])\n",
    "\n",
    "def Det(M):\n",
    "    a = M[0,0]\n",
    "    b = M[0,1]\n",
    "    c = M[1,0]\n",
    "    d = M[1,1]\n",
    "\n",
    "    return (a*d-b*c)\n",
    "\n",
    "def Mult(M1,M2):\n",
    "\n",
    "    a1 = M1[0,0]\n",
    "    b1 = M1[0,1]\n",
    "    c1 = M1[1,0]\n",
    "    d1 = M1[1,1]\n",
    "\n",
    "    a2 = M2[0,0]\n",
    "    b2 = M2[0,1]\n",
    "    c2 = M2[1,0]\n",
    "    d2 = M2[1,1]\n",
    "\n",
    "    A = a1*a2 + b1*c2\n",
    "    B = a1*b2 + b1*d2\n",
    "    C = c1*a2 + d1*c2\n",
    "    D = c1*b2 + d1*d2\n",
    "\n",
    "    mat = np.array([[A,B],[C,D]])\n",
    "\n",
    "    return mat"
   ]
  },
  {
   "cell_type": "code",
   "execution_count": null,
   "id": "47595b76",
   "metadata": {},
   "outputs": [],
   "source": [
    "Q + Mult(Inv(A),B)"
   ]
  },
  {
   "cell_type": "code",
   "execution_count": null,
   "id": "9f5bf3ac",
   "metadata": {},
   "outputs": [],
   "source": []
  }
 ],
 "metadata": {
  "kernelspec": {
   "display_name": "Python 3",
   "language": "python",
   "name": "python3"
  },
  "language_info": {
   "codemirror_mode": {
    "name": "ipython",
    "version": 3
   },
   "file_extension": ".py",
   "mimetype": "text/x-python",
   "name": "python",
   "nbconvert_exporter": "python",
   "pygments_lexer": "ipython3",
   "version": "3.8.8"
  }
 },
 "nbformat": 4,
 "nbformat_minor": 5
}
