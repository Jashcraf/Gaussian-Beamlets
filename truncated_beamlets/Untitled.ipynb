{
 "cells": [
  {
   "cell_type": "code",
   "execution_count": 90,
   "id": "1631aaee",
   "metadata": {},
   "outputs": [
    {
     "data": {
      "text/html": [
       "<style>.container { width:100% !important; }</style>"
      ],
      "text/plain": [
       "<IPython.core.display.HTML object>"
      ]
     },
     "metadata": {},
     "output_type": "display_data"
    }
   ],
   "source": [
    "from IPython.display import display, HTML\n",
    "display(HTML(\"<style>.container { width:100% !important; }</style>\"))\n",
    "\n",
    "import numpy as np\n",
    "from numpy.linalg import inv,det\n",
    "\n",
    "\n",
    "# Try just a gaussian beam\n",
    "\n",
    "def Matmulvec(x2,y2,M,x1,y1):\n",
    "\n",
    "    return (x2*M[0,0] + y2*M[1,0])*x1 + (x2*M[0,1] + y2*M[1,1])*y1\n",
    "\n",
    "def GaussianPhase(x1,y1,Qinv,k):\n",
    "    \"\"\"Determine phase of a gaussian beam\n",
    "\n",
    "    Parameters\n",
    "    ----------\n",
    "    x1 : numpy.ndarray\n",
    "        detector coordinate in the x direction\n",
    "    y1 : numpy.ndarray\n",
    "        detector coordinate in the y direction\n",
    "    Qinv : 2x2 numpy.ndarray\n",
    "        inverse of the omplex curvature matrix\n",
    "    k : scalar\n",
    "        wavenumber = 2*pi/wavelength\n",
    "\n",
    "    Returns\n",
    "    -------\n",
    "    numpy.ndarray\n",
    "        phase of an astigmatic gaussian beam on a detector plane\n",
    "    \"\"\"\n",
    "    \n",
    "    return -1j*k/2 * Matmulvec(x1,y1,Qinv,x1,y1)\n",
    "\n",
    "def ComputeGouyPhase(Q):\n",
    "\n",
    "    eigvals = np.linalg.eigvals(Q)\n",
    "    q1,q2 = eigvals[0],eigvals[1]\n",
    "\n",
    "    gouy = .5*(np.arctan(np.real(q1)/np.imag(q1)) + np.arctan(np.real(q2)/np.imag(q2)))\n",
    "\n",
    "    return gouy\n",
    "\n",
    "def PropagateGaussianPhase(x1,y1,Qinv,k,sys):\n",
    "    \n",
    "    A = sys[0:2,0:2]\n",
    "    B = sys[0:2,2:4]\n",
    "    C = sys[2:4,0:2]\n",
    "    D = sys[2:4,2:4]\n",
    "    \n",
    "    xd = 0\n",
    "    yd = 0\n",
    "    \n",
    "    Q = inv(Qinv)\n",
    "    Qpinv = (C + D @ Qinv) @ inv(A + B @ Qinv)\n",
    "    Qp = inv(Qpinv)\n",
    "    \n",
    "    gaus = GaussianPhase(x,y,Qpinv,k)\n",
    "\n",
    "    # Phase from decenter\n",
    "    demat = np.linalg.inv(Q + np.linalg.inv(A) @ B)\n",
    "\n",
    "    # Phase from cross term\n",
    "    crmat = np.linalg.inv(A @ Q + B)\n",
    "\n",
    "    # phase from decenter parameter\n",
    "    gaus += -1j*k/2 * Matmulvec(xd,yd,demat,xd,yd) \n",
    "    \n",
    "    # phase from coupling of decenter and position\n",
    "    gaus += 1j*k * Matmulvec(xd,yd,crmat,x,y) \n",
    "\n",
    "    # apply gouy phase shift\n",
    "    gaus += 1j*ComputeGouyPhase(Qp)\n",
    "\n",
    "    # amplitude scaling\n",
    "    amp = 1/np.sqrt((np.linalg.det(A + B @ Qinv)))\n",
    "    \n",
    "    return gaus,amp\n",
    "\n",
    "def PropagateGaussian(x1,y1,Qinv,k,abcd):\n",
    "    \n",
    "    gaus,amp = PropagateGaussianPhase(x1,y1,Qinv,k,abcd)\n",
    "    \n",
    "    field = amp*np.exp(gaus)\n",
    "    \n",
    "    return field\n",
    "\n",
    "def PropagateTruncatedGaussian(x1,y1,Qinv,k,sys,cx=0):\n",
    "    \n",
    "    from scipy.special import erfc\n",
    "    \n",
    "    A = sys[0:2,0:2]\n",
    "    B = sys[0:2,2:4]\n",
    "    C = sys[2:4,0:2]\n",
    "    D = sys[2:4,2:4]\n",
    "    \n",
    "    Binv = inv(B)\n",
    "    P = Qinv + Binv @ A\n",
    "    \n",
    "    npix = x1.shape[0]\n",
    "    \n",
    "    x1 = np.ravel(x1)\n",
    "    y1 = np.ravel(y1)\n",
    "    position = np.array([x1,y1])\n",
    "    \n",
    "    out = RotationMatrix(np.pi/4) @ position\n",
    "    \n",
    "    x1 = np.reshape(out[0,:],[npix,npix])\n",
    "    y1 = np.reshape(out[1,:])\n",
    "    \n",
    "    field = PropagateGaussian(x1,y1,Qinv,k,abcd)\n",
    "    \n",
    "    # Grab from optical system\n",
    "    gxx = -1j*k/2 * P[0,0]\n",
    "    gyy = -1j*k/2 * P[1,1]\n",
    "    gxy = -1j*k/2 * (P[0,1] + P[1,0])\n",
    "    gx = 1j*k*(Binv[0,0]*x1 + Binv[0,1]*y1)\n",
    "    gy = 1j*k*(Binv[1,0]*x1 + Binv[1,1]*y1)\n",
    "    \n",
    "    # Converting parameters\n",
    "    h = gxy/(2*gyy)\n",
    "    \n",
    "    # Now do the truncation parameters\n",
    "    ax = -(gxx - h**2 * gyy)\n",
    "    bx = -(gx - h*gy)/2\n",
    "    \n",
    "    field *= 1/2 * erfc((bx + ax*cx)/np.sqrt(ax))\n",
    "    \n",
    "    return field\n"
   ]
  },
  {
   "cell_type": "code",
   "execution_count": 121,
   "id": "89bbb27f",
   "metadata": {},
   "outputs": [
    {
     "name": "stdout",
     "output_type": "stream",
     "text": [
      "[[0.-0.31830989j 0.+0.j        ]\n",
      " [0.+0.j         0.-0.31830989j]]\n"
     ]
    }
   ],
   "source": [
    "# set up optical system\n",
    "wl = 1e-6\n",
    "npix = 256\n",
    "\n",
    "# set up detector\n",
    "dsize = 4.95e-5*256 #1.22*wl*(57.6/2.4)*25\n",
    "x = np.linspace(-dsize/2,dsize/2,npix)\n",
    "x,y = np.meshgrid(x,x)\n",
    "\n",
    "# set up gaussian\n",
    "wo = 1000*wl\n",
    "zr = np.pi * wo**2 / wl # meters\n",
    "q  = 1j*zr\n",
    "qinv = 1/q\n",
    "k = 2*np.pi/wl\n",
    "\n",
    "\n",
    "def RotationMatrix(th):\n",
    "    return np.array([[np.cos(th),-np.sin(th)],\n",
    "                     [np.sin(th),np.cos(th)]])\n",
    "\n",
    "# an orthogonal beamlet\n",
    "Qinv = np.array([[qinv,0],\n",
    "                 [0,qinv]])\n",
    "\n",
    "angle = np.pi/4\n",
    "Qinv = Qinv\n",
    "print(Qinv)\n",
    "\n",
    "\n",
    "\n",
    "d = zr*0.0001\n",
    "abcd = np.array([[1,0,d,0],\n",
    "                 [0,1,0,d],\n",
    "                 [0,0,1,0],\n",
    "                 [0,0,0,1]])\n",
    "\n",
    "field = PropagateTruncatedGaussian(x,y,Qinv,k,abcd,cx = 0)\n"
   ]
  },
  {
   "cell_type": "code",
   "execution_count": 122,
   "id": "e4e3e6ce",
   "metadata": {},
   "outputs": [
    {
     "data": {
      "image/png": "[encoded data removed]",
      "text/plain": [
       "<Figure size 720x360 with 4 Axes>"
      ]
     },
     "metadata": {
      "needs_background": "light"
     },
     "output_type": "display_data"
    },
    {
     "data": {
      "image/png": "[encoded data removed]",
      "text/plain": [
       "<Figure size 432x288 with 1 Axes>"
      ]
     },
     "metadata": {
      "needs_background": "light"
     },
     "output_type": "display_data"
    }
   ],
   "source": [
    "import matplotlib.pyplot as plt\n",
    "\n",
    "plt.figure(figsize=[10,5])\n",
    "plt.subplot(121)\n",
    "plt.set_cmap('plasma')\n",
    "plt.imshow(np.abs(field))\n",
    "plt.title('amplitude')\n",
    "plt.colorbar()\n",
    "plt.subplot(122)\n",
    "# plt.set_cmap('bwr')\n",
    "plt.imshow(np.angle(field))\n",
    "plt.title('phase')\n",
    "plt.colorbar()\n",
    "plt.show()\n",
    "\n",
    "plt.figure()\n",
    "plt.title('horizontal cross-section')\n",
    "plt.plot(np.abs(field)[128,:])\n",
    "plt.xlabel('detector pixels')\n",
    "plt.show()"
   ]
  },
  {
   "cell_type": "code",
   "execution_count": 104,
   "id": "cdeae40a",
   "metadata": {},
   "outputs": [
    {
     "data": {
      "image/png": "[encoded data removed]",
      "text/plain": [
       "<Figure size 432x288 with 2 Axes>"
      ]
     },
     "metadata": {
      "needs_background": "light"
     },
     "output_type": "display_data"
    },
    {
     "data": {
      "image/png": "[encoded data removed]",
      "text/plain": [
       "<Figure size 720x360 with 4 Axes>"
      ]
     },
     "metadata": {
      "needs_background": "light"
     },
     "output_type": "display_data"
    }
   ],
   "source": [
    "# Construct a Knife-Edge that's nbeamlets x nbeamlets\n",
    "nrays = 51\n",
    "aperture = np.zeros([nrays,nrays])\n",
    "x = np.linspace(-1,1,nrays)\n",
    "aperture[:,x >= 0] = 1\n",
    "\n",
    "plt.figure()\n",
    "plt.title('Knife-Edge')\n",
    "plt.imshow(aperture)\n",
    "plt.colorbar()\n",
    "plt.show()\n",
    "\n",
    "# Compute the Gradient of the Aperture\n",
    "dy,dx = np.gradient(aperture)\n",
    "\n",
    "plt.figure(figsize=[10,5])\n",
    "plt.suptitle('Gradient Spaces')\n",
    "plt.subplot(121)\n",
    "plt.set_cmap('plasma')\n",
    "plt.imshow(dx)\n",
    "plt.title('dx')\n",
    "plt.colorbar()\n",
    "plt.subplot(122)\n",
    "# plt.set_cmap('bwr')\n",
    "plt.imshow(dy)\n",
    "plt.title('dy')\n",
    "plt.colorbar()\n",
    "plt.show()\n"
   ]
  },
  {
   "cell_type": "code",
   "execution_count": null,
   "id": "cbeb1de7",
   "metadata": {},
   "outputs": [],
   "source": []
  }
 ],
 "metadata": {
  "kernelspec": {
   "display_name": "Python 3",
   "language": "python",
   "name": "python3"
  },
  "language_info": {
   "codemirror_mode": {
    "name": "ipython",
    "version": 3
   },
   "file_extension": ".py",
   "mimetype": "text/x-python",
   "name": "python",
   "nbconvert_exporter": "python",
   "pygments_lexer": "ipython3",
   "version": "3.8.8"
  }
 },
 "nbformat": 4,
 "nbformat_minor": 5
}
