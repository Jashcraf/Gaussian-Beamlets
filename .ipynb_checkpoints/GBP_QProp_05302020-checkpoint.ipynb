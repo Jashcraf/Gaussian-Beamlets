{
 "cells": [
  {
   "cell_type": "code",
   "execution_count": 90,
   "metadata": {},
   "outputs": [
    {
     "name": "stdout",
     "output_type": "stream",
     "text": [
      "0.0022 mm beam waist\n",
      "1000.0 waves beam waist\n",
      "15  Number of Beamlets\n",
      "22.727272727272727  Fresnel Number\n",
      "50.0  Working F/#\n",
      "0.0001342 Airy Radius\n"
     ]
    }
   ],
   "source": [
    "import numpy as np\n",
    "import matplotlib.pyplot as plt\n",
    "import numexpr as ne\n",
    "# import poppy\n",
    "import timeit\n",
    "from scipy.special import erfc\n",
    "from numba import njit\n",
    "\n",
    "# Propogate Divergence & Waist Rays of Gaussian Beamlets - NONastigmatic beamlets\n",
    "\n",
    "# Wavefront Parameters\n",
    "wl = 2.2e-6  # wavelength\n",
    "OF = 1 # beamlet overlap factor\n",
    "wo = 1000*wl\n",
    "#N  = 50 # Number of beamlets to trace    \n",
    "\n",
    "# Generate Poppy aperture\n",
    "amax = 5e-3     # meters\n",
    "#ap = poppy.CircularAperture(radius=amax)\n",
    "\n",
    "# Detector Parameters\n",
    "sample = 256       # number of detector pixels across\n",
    "\n",
    "# Calculate Gaussian Beamlet Parameters\n",
    "#wo = amax*OF/(2*N)\n",
    "N = round((amax*OF/(2*wo))*13)\n",
    "print(wo,'mm beam waist')\n",
    "print(wo/wl,'waves beam waist')\n",
    "print(N,' Number of Beamlets')\n",
    "\n",
    "zr = np.pi*wo**2/wl # rayleigh range\n",
    "k  = 2*np.pi/wl # wave number\n",
    "\n",
    "# System Parameters\n",
    "d   = 5e-1# propagation distance\n",
    "f   = 5e-1    # focal length\n",
    "n   = 1       # refractive index \n",
    "\n",
    "# configure detector dimensions\n",
    "u   = np.linspace(-amax,amax,sample)\n",
    "v   = u\n",
    "\n",
    "# Define a Q Matrix - diagonal zero for nonastigmatic case\n",
    "qxx = 1/(1j*zr)\n",
    "qxy = 0\n",
    "qyx = 0\n",
    "qyy = 1/(1j*zr)\n",
    "Q = np.array([[qxx,qxy],\n",
    "             [qyx,qyy]],dtype='complex') # Defines the matrix of inverse q parameters\n",
    "\n",
    "print(amax**2/(d*wl),' Fresnel Number')\n",
    "print(d/(2*amax),' Working F/#')\n",
    "print(1.22*wl*(d/(2*amax)),'Airy Radius')"
   ]
  },
  {
   "cell_type": "code",
   "execution_count": 91,
   "metadata": {},
   "outputs": [],
   "source": [
    "# Generate fibbonacci spaced list of xy center rays\n",
    "r = amax\n",
    "c = np.array([0,0]) # XY offset from a spiral\n",
    "R = r*np.sqrt(np.linspace(1/2,N-1/2,N))/np.sqrt(N-1/2)\n",
    "T = 4/(1+np.sqrt(5))*np.pi*np.linspace(1,N,N);\n",
    "X = c[0] +R*np.cos(T)\n",
    "Y = c[1] +R*np.sin(T)\n",
    "\n",
    "#X = np.linspace(-amax,amax,N)\n",
    "#Y = np.linspace(-amax,amax,N)\n",
    "#print(X)"
   ]
  },
  {
   "cell_type": "code",
   "execution_count": 92,
   "metadata": {},
   "outputs": [
    {
     "name": "stdout",
     "output_type": "stream",
     "text": [
      "[[ 0.          0.          0.          0.          0.          0.\n",
      "   0.          0.          0.          0.          0.          0.\n",
      "   0.          0.          0.        ]\n",
      " [ 0.          0.          0.          0.          0.          0.\n",
      "   0.          0.          0.          0.          0.          0.\n",
      "   0.          0.          0.        ]\n",
      " [ 0.00136926 -0.00028119 -0.0025264   0.00483793 -0.00470044  0.00159886\n",
      "   0.00308593 -0.00675555  0.00707717 -0.00343072 -0.00254679  0.00770526\n",
      "  -0.00906821  0.00554943  0.00128511]\n",
      " [ 0.00125435 -0.00320402  0.00329525 -0.00085576 -0.00299004  0.00594766\n",
      "  -0.00594177  0.00246712  0.00292135 -0.00733126  0.00811958 -0.00446535\n",
      "  -0.00199362  0.00789349 -0.00991708]]\n"
     ]
    }
   ],
   "source": [
    "# Configure Propagation\n",
    "\n",
    "# prepare array of base rays\n",
    "base = np.array([[X],\n",
    "                 [Y],\n",
    "                 [0*X],\n",
    "                 [0*Y]])\n",
    "\n",
    "# prepare system matrix\n",
    "focus = np.array([[1,0,0,0],\n",
    "                  [0,1,0,0],\n",
    "                  [-1/f,0,1,0],\n",
    "                  [0,-1/f,0,1]])\n",
    "\n",
    "propg = np.array([[1,0,d,0],\n",
    "                 [0,1,0,d],\n",
    "                 [0,0,1,0],\n",
    "                 [0,0,0,1]])\n",
    "\n",
    "system = np.matmul(propg,focus)\n",
    "\n",
    "\n",
    "prop = (np.matmul(system,base[:,0]))\n",
    "tbox = np.sqrt(np.square(prop[0,:]-base[0,:]) + np.square(prop[1,:]-base[1,:]) + d**2)\n",
    "#u,v = np.meshgrid(u,v)\n",
    "A = system[0:2,0:2]\n",
    "B = system[0:2,2:4]\n",
    "C = system[2:4,0:2] # factor of 2 disparity on this matrix\n",
    "D = system[2:4,2:4]\n",
    "print(prop)"
   ]
  },
  {
   "cell_type": "code",
   "execution_count": 93,
   "metadata": {},
   "outputs": [],
   "source": [
    "# Define Gaussian & Half-Gaussian Beamlet w/Qprop\n",
    "\n",
    "def Qprop(system,Q): # NON-ASTIGMATIC\n",
    "    A = system[0:2,0:2]\n",
    "    B = system[0:2,2:4]\n",
    "    C = system[2:4,0:2] # factor of 2 disparity on this matrix\n",
    "    D = system[2:4,2:4]\n",
    "    \n",
    "    # Prepare complex curvature matrix\n",
    "    Qn = (C + np.matmul(D,Q)) # matrix numerator\n",
    "    Qd = np.linalg.inv(A + np.matmul(B,Q)) # matrix denominator\n",
    "    Qp = np.matmul(Qn,Qd) # propagated complex curvature\n",
    "    \n",
    "    return Qp\n",
    "\n",
    "def GauBlet(system,Qp,Q,u,uo,v,vo):\n",
    "    # Set up Electric Field Expression with detector dimensions\n",
    "    u = u+uo\n",
    "    v = v+vo\n",
    "    Gamp = np.exp(-1j*k*d)/np.sqrt(np.linalg.norm(A+np.matmul(B,Q)))\n",
    "    rQmult = Qp[0,0]*u**2 + (Qp[0,1]+Qp[1,0])*u*v + Qp[1,1]*v**2\n",
    "    Gphase = np.exp((-1j*k/2)*rQmult)\n",
    "    Efield = Gamp*Gphase\n",
    "    \n",
    "    return Efield\n",
    "\n",
    "def GauBphase(system,Qp,Q,u,uo,v,vo):\n",
    "    # Set up Electric Field Expression with detector dimensions\n",
    "    u = u+uo\n",
    "    v = v+vo\n",
    "    Gphase = (-1j*k/2)*(-1j*k*d)*(Qp[0,0]*u**2 + (Qp[0,1]+Qp[1,0])*u*v + Qp[1,1]*v**2)\n",
    "    \n",
    "    return Gphase\n",
    "    \n",
    "\n",
    "def HGauBlet(system,Qp,Q,u,v):\n",
    "    \n",
    "    # Set up Electric Field Expression with detector dimensions\n",
    "    A = system[0:2,0:2]\n",
    "    B = system[0:2,2:4]\n",
    "    u,v = np.meshgrid(u,v)\n",
    "    Gamp = np.exp(-1j*k*d)/np.sqrt(np.linalg.norm(A+np.matmul(B,Q)))\n",
    "    rQmult = Qp[0,0]*u**2 + (Qp[0,1]+Qp[1,0])*u*v + Qp[1,1]*v**2\n",
    "    Gphase = np.exp((-1j*k/2)*rQmult)\n",
    "    Hgaubamp = .5*erfc(-np.sqrt((1j*k)/(2*B[0,0]*(A[0,0] + B[0,0]*Q[0,0])))*u)\n",
    "    Efield = Gamp*Gphase*Hgaubamp\n",
    "    Ifield = np.real(Efield*np.conj(Efield))\n",
    "    \n",
    "    return Ifield"
   ]
  },
  {
   "cell_type": "code",
   "execution_count": 94,
   "metadata": {},
   "outputs": [
    {
     "name": "stdout",
     "output_type": "stream",
     "text": [
      "[[ 0.          0.          0.          0.          0.          0.\n",
      "   0.          0.          0.          0.          0.          0.\n",
      "   0.          0.          0.        ]\n",
      " [ 0.          0.          0.          0.          0.          0.\n",
      "   0.          0.          0.          0.          0.          0.\n",
      "   0.          0.          0.        ]\n",
      " [ 0.00136926 -0.00028119 -0.0025264   0.00483793 -0.00470044  0.00159886\n",
      "   0.00308593 -0.00675555  0.00707717 -0.00343072 -0.00254679  0.00770526\n",
      "  -0.00906821  0.00554943  0.00128511]\n",
      " [ 0.00125435 -0.00320402  0.00329525 -0.00085576 -0.00299004  0.00594766\n",
      "  -0.00594177  0.00246712  0.00292135 -0.00733126  0.00811958 -0.00446535\n",
      "  -0.00199362  0.00789349 -0.00991708]]\n"
     ]
    }
   ],
   "source": [
    "#Qp = Qprop(system,Q)\n",
    "#print(Qp)\n",
    "#Dfield = np.zeros([sample,sample,N],dtype='complex')\n",
    "#Qp = Qprop(system,Q)\n",
    "# try populate a circular aperture with beamlets\n",
    "\n",
    "#@njit\n",
    "#def dphase_loop(N,Dfield,system,Qp,Q,u,X,v,Y):\n",
    "#    for ind in range(N):\n",
    "#        uo = X[ind]\n",
    "#        vo = Y[ind]\n",
    "#        u = u+uo\n",
    "#        v = v+vo\n",
    "#        Gphase = (-1j*k/2)*(-1j*k*d)*(Qp[0,0]*u**2 + (Qp[0,1]+Qp[1,0])*u*v + Qp[1,1]*v**2)\n",
    "#        Dfield[:,:,ind] = Gphase\n",
    "#        \n",
    "#    return Dfield\n",
    "\n",
    "#Dfield = dphase_loop(N,Dfield,system,Qp,Q,u,X,v,Y)\n",
    "print(prop)"
   ]
  },
  {
   "cell_type": "code",
   "execution_count": 95,
   "metadata": {},
   "outputs": [
    {
     "name": "stdout",
     "output_type": "stream",
     "text": [
      "CPU times: user 0 ns, sys: 173 ms, total: 173 ms\n",
      "Wall time: 170 ms\n"
     ]
    }
   ],
   "source": [
    "%%time\n",
    "\n",
    "Dphase = np.zeros([sample,sample,N],dtype='complex')\n",
    "Qp = Qprop(system,Q)\n",
    "\n",
    "u = np.linspace(-amax,amax,sample)\n",
    "v = u\n",
    "u,v = np.meshgrid(u,v)\n",
    "\n",
    "@njit\n",
    "def dphase_loop(N,Dphase,system,Qp,Q,u,v,prop,tbox):\n",
    "    for ind in range(N):\n",
    "        up = u-prop[0,ind]\n",
    "        vp = v-prop[1,ind]\n",
    "        rQmult = Qp[0,0]*up**2 + (Qp[0,1]+Qp[1,0])*up*vp + Qp[1,1]*vp**2\n",
    "        Gphase = (-1j*k)*(tbox[0,ind]+((1/2)*rQmult))\n",
    "        Dphase[:,:,ind] = Gphase\n",
    "        \n",
    "    return Dphase\n"
   ]
  },
  {
   "cell_type": "code",
   "execution_count": 96,
   "metadata": {},
   "outputs": [
    {
     "name": "stdout",
     "output_type": "stream",
     "text": [
      "CPU times: user 482 ms, sys: 15.5 ms, total: 497 ms\n",
      "Wall time: 487 ms\n"
     ]
    }
   ],
   "source": [
    "%%time\n",
    "Dphase = dphase_loop(N,Dphase,system,Qp,Q,u,v,prop,tbox)"
   ]
  },
  {
   "cell_type": "code",
   "execution_count": 97,
   "metadata": {},
   "outputs": [
    {
     "name": "stdout",
     "output_type": "stream",
     "text": [
      "CPU times: user 160 µs, sys: 17 µs, total: 177 µs\n",
      "Wall time: 157 µs\n"
     ]
    }
   ],
   "source": [
    "%%time\n",
    "\n",
    "Damp = 1/np.sqrt(np.linalg.norm(A+np.matmul(B,Q)))"
   ]
  },
  {
   "cell_type": "code",
   "execution_count": 98,
   "metadata": {},
   "outputs": [
    {
     "name": "stdout",
     "output_type": "stream",
     "text": [
      "CPU times: user 41.7 ms, sys: 9.19 ms, total: 50.9 ms\n",
      "Wall time: 16.5 ms\n"
     ]
    }
   ],
   "source": [
    "%%time\n",
    "Dfield = Damp*ne.evaluate('exp(Dphase)')"
   ]
  },
  {
   "cell_type": "code",
   "execution_count": 99,
   "metadata": {},
   "outputs": [
    {
     "name": "stdout",
     "output_type": "stream",
     "text": [
      "CPU times: user 9.41 ms, sys: 0 ns, total: 9.41 ms\n",
      "Wall time: 7.55 ms\n"
     ]
    }
   ],
   "source": [
    "%%time\n",
    "Efield = np.sum(Dfield,axis=2,dtype=complex)"
   ]
  },
  {
   "cell_type": "code",
   "execution_count": 101,
   "metadata": {},
   "outputs": [
    {
     "name": "stderr",
     "output_type": "stream",
     "text": [
      "/home/uasal-optics/miniconda3/lib/python3.7/site-packages/ipykernel_launcher.py:6: RuntimeWarning: divide by zero encountered in log\n",
      "  \n"
     ]
    },
    {
     "data": {
      "text/plain": [
       "<matplotlib.collections.PolyCollection at 0x7fa85e40ec50>"
      ]
     },
     "execution_count": 101,
     "metadata": {},
     "output_type": "execute_result"
    },
    {
     "data": {
      "image/png": "[encoded data removed]",
      "text/plain": [
       "<Figure size 720x720 with 1 Axes>"
      ]
     },
     "metadata": {
      "needs_background": "light"
     },
     "output_type": "display_data"
    }
   ],
   "source": [
    "# Interesting problem when focusing\n",
    "# When a large number of beamlets are traced, because the electric field outside the beam waist is nonzero\n",
    "# The summation step creates a PSF that scales with the number of beamlets\n",
    "# Controlling the beamlet amplitude with likely remedy this problem to a degree...\n",
    "\n",
    "\n",
    "plt.figure(figsize=[10,10])\n",
    "plt.pcolor(u,v,np.log(np.real(Efield*np.conj(Efield))))"
   ]
  },
  {
   "cell_type": "code",
   "execution_count": null,
   "metadata": {},
   "outputs": [],
   "source": []
  },
  {
   "cell_type": "code",
   "execution_count": null,
   "metadata": {},
   "outputs": [],
   "source": []
  }
 ],
 "metadata": {
  "kernelspec": {
   "display_name": "Python 3",
   "language": "python",
   "name": "python3"
  },
  "language_info": {
   "codemirror_mode": {
    "name": "ipython",
    "version": 3
   },
   "file_extension": ".py",
   "mimetype": "text/x-python",
   "name": "python",
   "nbconvert_exporter": "python",
   "pygments_lexer": "ipython3",
   "version": "3.7.6"
  }
 },
 "nbformat": 4,
 "nbformat_minor": 2
}
