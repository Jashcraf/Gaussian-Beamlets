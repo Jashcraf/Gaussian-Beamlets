{
 "cells": [
  {
   "cell_type": "code",
   "execution_count": 5,
   "id": "3a916f03",
   "metadata": {},
   "outputs": [],
   "source": [
    "import numpy as np\n",
    "from numpy.linalg import inv,det\n",
    "\n",
    "def eval_gaussian(sys,wlen,detsize,npix,ray):\n",
    "    \n",
    "    # wave vector\n",
    "    k = 2*np.pi/wlen\n",
    "    \n",
    "    # detector\n",
    "    x = np.linspace(-detsize/2,detsize/2,npix)\n",
    "    up,vp = np.meshgrid(x,x)\n",
    "    up = np.ravel(up)\n",
    "    vp = np.ravel(vp)\n",
    "    \n",
    "    r2 = np.array([up,\n",
    "                   vp])\n",
    "    \n",
    "    # decenter parameter\n",
    "    uo = ray[0]\n",
    "    vo = ray[1]\n",
    "    \n",
    "    ro = np.array([uo,vo])\n",
    "    \n",
    "    # gaussian\n",
    "    wo = 100*wlen\n",
    "    zr = np.pi*wo**2/wlen\n",
    "    Q = np.array([[1/(1j*zr),0],[0,1/(1j*zr)]])\n",
    "    \n",
    "    # RTM\n",
    "    A = sys[0:2,0:2]\n",
    "    B = sys[0:2,2:4]\n",
    "    C = sys[2:4,0:2]\n",
    "    D = sys[2:4,2:4]\n",
    "    lo = B[0,0]\n",
    "    \n",
    "    # prop ray - UNUSED\n",
    "    rp = sys @ ray\n",
    "    \n",
    "    # Propagate Gaussian\n",
    "    Qp_n = (C + D @ Q)\n",
    "    Qp_d = inv(A + B @ Q)\n",
    "    Qp   = Qp_n @ Qp_d\n",
    "    \n",
    "    # Propagated Beamlet Phase matrices\n",
    "    orig_matrx = inv(inv(Q) + inv(A) @ B)\n",
    "    cros_matrx = inv(A @ inv(Q) + B)\n",
    "    \n",
    "    beam_phase = np.transpose(r2) @ Qp @ r2\n",
    "    dist_phase = np.transpose(ro) @ orig_matrx @ ro\n",
    "    cros_phase = np.transpose(ro) @ cros_matrx @ r2\n",
    "    \n",
    "#     beam_phase = Qp[0,0]*up**2 + (Qp[1,0] + Qp[0,1])*up*vp + Qp[1,1]*vp**2\n",
    "#     dist_phase = orig_matrx[0,0]*uo**2 + (orig_matrx[1,0] + orig_matrx[0,1])*uo*vo + orig_matrx[1,1]*vo**2\n",
    "#     cros_phase = -2*(cros_matrx[0,0]*uo*up + cros_matrx[1,0]*up*vo + cros_matrx[0,1]*uo*vp + cros_matrx[1,1]*vo*vp)\n",
    "    \n",
    "    phasor = beam_phase + dist_phase + cros_phase + 2*lo\n",
    "    phase = np.exp(-1j*k*lo)\n",
    "    phase *= np.exp(-1j*k/2 * beam_phase)\n",
    "    phase *= np.exp(-1j*k/2 * dist_phase)\n",
    "    phase *= np.exp(-1j*k/2 * cros_phase)\n",
    "    beam = np.sqrt(det(A + B @ Q))*phase\n",
    "    \n",
    "    return beam    "
   ]
  },
  {
   "cell_type": "code",
   "execution_count": 6,
   "id": "93c17c59",
   "metadata": {},
   "outputs": [
    {
     "ename": "ValueError",
     "evalue": "could not broadcast input array from shape (16384,16384) into shape (16384,)",
     "output_type": "error",
     "traceback": [
      "\u001b[0;31m---------------------------------------------------------------------------\u001b[0m",
      "\u001b[0;31mValueError\u001b[0m                                Traceback (most recent call last)",
      "\u001b[0;32m<ipython-input-6-f81390e12f8b>\u001b[0m in \u001b[0;36m<module>\u001b[0;34m\u001b[0m\n\u001b[1;32m     29\u001b[0m                         [0,-1/efl,0,1]])\n\u001b[1;32m     30\u001b[0m \u001b[0;34m\u001b[0m\u001b[0m\n\u001b[0;32m---> 31\u001b[0;31m         \u001b[0mbeamlist\u001b[0m\u001b[0;34m[\u001b[0m\u001b[0;34m:\u001b[0m\u001b[0;34m,\u001b[0m\u001b[0mijk\u001b[0m\u001b[0;34m]\u001b[0m \u001b[0;34m=\u001b[0m \u001b[0meval_gaussian\u001b[0m\u001b[0;34m(\u001b[0m\u001b[0msys\u001b[0m\u001b[0;34m,\u001b[0m\u001b[0mwlen\u001b[0m\u001b[0;34m,\u001b[0m\u001b[0mdetsize\u001b[0m\u001b[0;34m,\u001b[0m\u001b[0mnpix\u001b[0m\u001b[0;34m,\u001b[0m\u001b[0mray\u001b[0m\u001b[0;34m)\u001b[0m\u001b[0;34m\u001b[0m\u001b[0;34m\u001b[0m\u001b[0m\n\u001b[0m",
      "\u001b[0;31mValueError\u001b[0m: could not broadcast input array from shape (16384,16384) into shape (16384,)"
     ]
    }
   ],
   "source": [
    "efl = 10\n",
    "dis = 10\n",
    "wlen = 1e-6\n",
    "npix = 128\n",
    "detsize = 1e-4\n",
    "nrays = 3\n",
    "cut = 32\n",
    "beamlist = np.zeros([npix*npix,nrays*nrays],dtype='complex128')\n",
    "xlis = []\n",
    "ylis = []\n",
    "\n",
    "x = np.linspace(-.5,.5,nrays)\n",
    "y = np.linspace(-.5,.5,nrays)\n",
    "\n",
    "for ijk in range(nrays):\n",
    "    for lmn in range(nrays):\n",
    "\n",
    "        ray = np.array([x[ijk],\n",
    "                        y[lmn],\n",
    "                        0,\n",
    "                        0])\n",
    "        \n",
    "        xlis.append(ray[0])\n",
    "        ylis.append(ray[1])\n",
    "\n",
    "        sys = np.array([[1-dis/efl + 1e-20,0,dis,0],\n",
    "                        [0,1-dis/efl + 1e-20,0,dis],\n",
    "                        [-1/efl,0,1,0],\n",
    "                        [0,-1/efl,0,1]])\n",
    "        \n",
    "        beamlist[:,ijk] = eval_gaussian(sys,wlen,detsize,npix,ray)"
   ]
  },
  {
   "cell_type": "code",
   "execution_count": 7,
   "id": "dd87a082",
   "metadata": {},
   "outputs": [
    {
     "data": {
      "text/plain": [
       "(2, 5)"
      ]
     },
     "execution_count": 7,
     "metadata": {},
     "output_type": "execute_result"
    }
   ],
   "source": [
    "ray = np.array([np.linspace(-1,1,5),\n",
    "                np.linspace(-1,1,5)])\n",
    "\n",
    "ray.shape"
   ]
  },
  {
   "cell_type": "code",
   "execution_count": null,
   "id": "541c4db8",
   "metadata": {},
   "outputs": [],
   "source": [
    "import matplotlib.pyplot as plt\n",
    "\n",
    "# for abc in range(nrays*nrays):\n",
    "    \n",
    "#     if abc == 0:\n",
    "#         beam = beamlist[:,:,abc]\n",
    "#     else:\n",
    "#         beam += beamlist[:,:,abc]\n",
    "\n",
    "#     plt.figure(figsize=[10,5])\n",
    "#     plt.subplot(121)\n",
    "#     plt.title('Amplitude')\n",
    "#     plt.imshow(np.abs(beam*np.conj(beam)))\n",
    "#     plt.colorbar()\n",
    "\n",
    "#     plt.subplot(122)\n",
    "#     plt.title('Phase')\n",
    "#     plt.imshow(np.angle(beam))\n",
    "#     plt.colorbar()"
   ]
  },
  {
   "cell_type": "code",
   "execution_count": null,
   "id": "c76a4139",
   "metadata": {},
   "outputs": [],
   "source": [
    "beamfinal = np.sum(beamlist,axis=1)\n",
    "beamfinal = np.reshape(beamfinal,[npix,npix])\n",
    "plt.figure(figsize=[10,5])\n",
    "plt.subplot(121)\n",
    "plt.title('Amplitude')\n",
    "plt.imshow(np.abs(beamfinal*np.conj(beamfinal)))\n",
    "plt.colorbar()\n",
    "\n",
    "plt.subplot(122)\n",
    "plt.title('Phase')\n",
    "plt.imshow(np.angle(beamfinal))\n",
    "plt.colorbar()"
   ]
  },
  {
   "cell_type": "code",
   "execution_count": null,
   "id": "6c018e25",
   "metadata": {},
   "outputs": [],
   "source": [
    "plt.scatter(xlis,ylis)"
   ]
  },
  {
   "cell_type": "code",
   "execution_count": null,
   "id": "3dce20c1",
   "metadata": {},
   "outputs": [],
   "source": []
  },
  {
   "cell_type": "code",
   "execution_count": null,
   "id": "fa4593be",
   "metadata": {},
   "outputs": [],
   "source": []
  }
 ],
 "metadata": {
  "kernelspec": {
   "display_name": "Python 3",
   "language": "python",
   "name": "python3"
  },
  "language_info": {
   "codemirror_mode": {
    "name": "ipython",
    "version": 3
   },
   "file_extension": ".py",
   "mimetype": "text/x-python",
   "name": "python",
   "nbconvert_exporter": "python",
   "pygments_lexer": "ipython3",
   "version": "3.8.8"
  }
 },
 "nbformat": 4,
 "nbformat_minor": 5
}
