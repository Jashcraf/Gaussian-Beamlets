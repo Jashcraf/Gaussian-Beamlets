{
 "cells": [
  {
   "cell_type": "code",
   "execution_count": 7,
   "metadata": {},
   "outputs": [
    {
     "name": "stdout",
     "output_type": "stream",
     "text": [
      "22.727272727272727 Fresnel Number\n",
      "0.5 Beam Waist\n",
      "227272.72727272726 waves\n"
     ]
    }
   ],
   "source": [
    "import numpy as np\n",
    "import matplotlib.pyplot as plt\n",
    "\n",
    "\n",
    "# Propogate Divergence & Waist Rays of Gaussian Beamlets - NONastigmatic beamlets\n",
    "\n",
    "# System Parameters\n",
    "wl     = 2.2e-6  # wavelength\n",
    "d      = 5e3        # propagation distance\n",
    "f      = 1e50     # focal length\n",
    "sample = 1024       # number of detector pixels across\n",
    "amax   = 5e-1     # maximum aperture radius\n",
    "amin   = 0      # minimum aperture radius\n",
    "OF     = 2      # Beamlet Overlap Factor\n",
    "numB   = 2     # number of beams across the grid\n",
    "\n",
    "# Calculate beam waist\n",
    "wo = 2*amax*OF/(2*numB)\n",
    "Zr = (np.pi*wo**2)/wl # Rayleigh range\n",
    "k  = 2*np.pi/wl\n",
    "\n",
    "print(amax**2 / (d*wl),'Fresnel Number')\n",
    "print(wo,'Beam Waist')\n",
    "print(wo/wl,'waves')"
   ]
  },
  {
   "cell_type": "code",
   "execution_count": 8,
   "metadata": {},
   "outputs": [],
   "source": [
    "# Predefine empty array for ray distribution - gonna put x & y components of rays here\n",
    "x = np.linspace(-amax,amax,numB)\n",
    "y = np.linspace(-amax,amax,numB)\n",
    "x,y = np.meshgrid(x,y)\n",
    "\n",
    "# Configure system ABCD Matrix -> these become optical elements in future revisions\n",
    "focus = np.array([[1,0],\n",
    "                  [-1/f,1]])\n",
    "\n",
    "propg = np.array([[1,d],\n",
    "                  [0,1]])\n",
    "\n",
    "# Calculate system ABCD Matrix\n",
    "system = np.matmul(propg,focus)\n",
    "\n",
    "# Disperse q parameter across the beamlets\n",
    "qmat = (1j*Zr) # np.ones((numB,numB))*(1j*Zr) # stores initial complex curvature for all beamlets z=0"
   ]
  },
  {
   "cell_type": "code",
   "execution_count": 9,
   "metadata": {},
   "outputs": [],
   "source": [
    "# Define waist ray - unit height\n",
    "waist = np.array([[1]\n",
    "                 ,[0]]) # top element is y, bottom element is slope\n",
    "\n",
    "# Create some empty boxes to throw our waist vectors into - this locates the beamlet\n",
    "pwx = np.zeros([numB,numB],dtype=object)\n",
    "pwy = np.zeros([numB,numB],dtype=object)\n",
    "\n",
    "# Create x & y arrays of waist & divergence rays\n",
    "for ijk in range(numB):\n",
    "    for lmn in range(numB):\n",
    "        # Generate scale matricies\n",
    "        scalex = np.array([[x[ijk,lmn],0],[0,1]])\n",
    "        scaley = np.array([[y[ijk,lmn],0],[0,1]])\n",
    "        \n",
    "        # Place our ray vectors in a box\n",
    "        pwx[ijk,lmn] = waist*(x[ijk,lmn]) # creates the waist ray\n",
    "        pwy[ijk,lmn] = waist*(y[ijk,lmn])"
   ]
  },
  {
   "cell_type": "code",
   "execution_count": 10,
   "metadata": {},
   "outputs": [],
   "source": [
    "# Propagate waist rays\n",
    "for abc in range(numB):\n",
    "    for xyz in range(numB):\n",
    "        pwx[abc,xyz] = np.matmul(system,pwx[abc,xyz])\n",
    "        pwy[abc,xyz] = np.matmul(system,pwy[abc,xyz])\n",
    "\n",
    "# Propagate q parameter\n",
    "qprop = (system[0,0]*qmat + system[0,1])/(system[1,0]*qmat + system[1,1])"
   ]
  },
  {
   "cell_type": "code",
   "execution_count": 11,
   "metadata": {},
   "outputs": [
    {
     "ename": "NameError",
     "evalue": "name 'W' is not defined",
     "output_type": "error",
     "traceback": [
      "\u001b[1;31m---------------------------------------------------------------------------\u001b[0m",
      "\u001b[1;31mNameError\u001b[0m                                 Traceback (most recent call last)",
      "\u001b[1;32m<ipython-input-11-370a37817c06>\u001b[0m in \u001b[0;36m<module>\u001b[1;34m\u001b[0m\n\u001b[0;32m      2\u001b[0m \u001b[1;33m\u001b[0m\u001b[0m\n\u001b[0;32m      3\u001b[0m \u001b[1;31m# Define Sample Plane\u001b[0m\u001b[1;33m\u001b[0m\u001b[1;33m\u001b[0m\u001b[1;33m\u001b[0m\u001b[0m\n\u001b[1;32m----> 4\u001b[1;33m \u001b[0mu\u001b[0m \u001b[1;33m=\u001b[0m \u001b[0mnp\u001b[0m\u001b[1;33m.\u001b[0m\u001b[0mlinspace\u001b[0m\u001b[1;33m(\u001b[0m\u001b[1;33m-\u001b[0m\u001b[1;36m2\u001b[0m\u001b[1;33m*\u001b[0m\u001b[0mW\u001b[0m\u001b[1;33m,\u001b[0m\u001b[1;36m2\u001b[0m\u001b[1;33m*\u001b[0m\u001b[0mW\u001b[0m\u001b[1;33m,\u001b[0m\u001b[0msample\u001b[0m\u001b[1;33m)\u001b[0m\u001b[1;33m\u001b[0m\u001b[1;33m\u001b[0m\u001b[0m\n\u001b[0m\u001b[0;32m      5\u001b[0m \u001b[0mv\u001b[0m \u001b[1;33m=\u001b[0m \u001b[0mnp\u001b[0m\u001b[1;33m.\u001b[0m\u001b[0mlinspace\u001b[0m\u001b[1;33m(\u001b[0m\u001b[1;33m-\u001b[0m\u001b[1;36m2\u001b[0m\u001b[1;33m*\u001b[0m\u001b[0mW\u001b[0m\u001b[1;33m,\u001b[0m\u001b[1;36m2\u001b[0m\u001b[1;33m*\u001b[0m\u001b[0mW\u001b[0m\u001b[1;33m,\u001b[0m\u001b[0msample\u001b[0m\u001b[1;33m)\u001b[0m\u001b[1;33m\u001b[0m\u001b[1;33m\u001b[0m\u001b[0m\n\u001b[0;32m      6\u001b[0m \u001b[0mu\u001b[0m\u001b[1;33m,\u001b[0m\u001b[0mv\u001b[0m \u001b[1;33m=\u001b[0m \u001b[0mnp\u001b[0m\u001b[1;33m.\u001b[0m\u001b[0mmeshgrid\u001b[0m\u001b[1;33m(\u001b[0m\u001b[0mu\u001b[0m\u001b[1;33m,\u001b[0m\u001b[0mv\u001b[0m\u001b[1;33m)\u001b[0m\u001b[1;33m\u001b[0m\u001b[1;33m\u001b[0m\u001b[0m\n",
      "\u001b[1;31mNameError\u001b[0m: name 'W' is not defined"
     ]
    }
   ],
   "source": [
    "# Now we have a qparam and a grid of waist rays, lets-a plot some-a beamses\n",
    "\n",
    "# Define Sample Plane\n",
    "u = np.linspace(-2*W,2*W,sample)\n",
    "v = np.linspace(-2*W,2*W,sample)\n",
    "u,v = np.meshgrid(u,v)\n",
    "afield = np.zeros([sample,sample]) # define analysis box\n",
    "\n",
    "for px in range(numB):\n",
    "    for py in range(numB):\n",
    "        \n",
    "        # Grab analysis x & y comps from waist for beam location\n",
    "        imguv_parsx = imgwx[px,py] \n",
    "        imguv_parsy = imgwy[px,py]\n",
    "        \n",
    "        if np.sqrt(x[px,py]**2 + y[px,py]**2) <= amax and np.sqrt(x[px,py]**2 + y[px,py]**2) >= amin:\n",
    "            p = np.square(u-imguv_parsx[0,0]) + np.square(v-imguv_parsy[0,0]) # define squared radial coord\n",
    "            realexp = np.exp(-p/(wp[px,py])**2)\n",
    "            imagexp = np.exp(-1j*(k*tbox[px,py] + k*(p/(2*Rbox[px,py]))-np.arctan(tbox[px,py]/Zr)))\n",
    "            amptude = wo/wp[px,py]\n",
    "            afield = afield + amptude*realexp*imagexp \n",
    "        "
   ]
  },
  {
   "cell_type": "code",
   "execution_count": null,
   "metadata": {},
   "outputs": [],
   "source": []
  }
 ],
 "metadata": {
  "kernelspec": {
   "display_name": "Python 3",
   "language": "python",
   "name": "python3"
  },
  "language_info": {
   "codemirror_mode": {
    "name": "ipython",
    "version": 3
   },
   "file_extension": ".py",
   "mimetype": "text/x-python",
   "name": "python",
   "nbconvert_exporter": "python",
   "pygments_lexer": "ipython3",
   "version": "3.7.3"
  }
 },
 "nbformat": 4,
 "nbformat_minor": 2
}
