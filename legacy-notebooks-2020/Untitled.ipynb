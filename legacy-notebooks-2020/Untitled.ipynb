{
 "cells": [
  {
   "cell_type": "markdown",
   "metadata": {},
   "source": [
    "## Toward Shifted Propagation of the Complex Beam Parameter\n",
    "We delve into the works of Al-Rashed & Saleh (1995) for a general expression for a gaussian beamlet with a shifted transverse direction in terms of matrix optics. We begin with a shift appied in the lateral direction of a simple gaussian beam\n",
    "\n",
    "$$ U(x,y,z) = \\frac{1}{q(z)}exp(-ik\\frac{(x-p)^{2}}{2q(z)})  $$\n",
    "\n",
    "This represents a complex shift in the transverse direction, where\n",
    "$$q(z) = z+ iz_o$$\n",
    "$$p = x_d - ix_o $$\n",
    "\n",
    "$x_d$ represents a simple lateral shift of the beam above the z axis, and $x_o$ is the complex shift in the transverse direction called the shear parameter. For a paraxial orthogonal optical system, we take $x_o$ to be zero-valued at the beginning wavefront, and allow matrix transformations to shape it."
   ]
  },
  {
   "cell_type": "code",
   "execution_count": 21,
   "metadata": {},
   "outputs": [
    {
     "data": {
      "text/plain": [
       "array([[ 0. ,  0. ],\n",
       "       [ 0. ,  0. ],\n",
       "       [-0.1, -0.2],\n",
       "       [-0.1, -0.2]])"
      ]
     },
     "execution_count": 21,
     "metadata": {},
     "output_type": "execute_result"
    }
   ],
   "source": [
    "import numpy as np\n",
    "import matplotlib.pyplot as plt\n",
    "#for some system\n",
    "\n",
    "distance = 1 # meter\n",
    "index = 1\n",
    "efl = 1\n",
    "\n",
    "basesys = np.array([[1.0,0,0,0],\n",
    "                 [0,1.0,0,0],\n",
    "                 [0,0,1.0,0],\n",
    "                 [0,0,0,1.0]])\n",
    "\n",
    "propg = np.array([[1.0,0,float(distance)/float(index),0],\n",
    "                          [0,1.0,0,float(distance)/float(index)],\n",
    "                          [0,0,1.0,0],\n",
    "                          [0,0,0,1.0]])\n",
    "\n",
    "optic = np.array([[1.0,0,0,0],\n",
    "                  [0,1.0,0,0],\n",
    "                  [-1.0/float(efl),0,1.0,0],\n",
    "                  [0,-1.0/float(efl),0,1.0]])\n",
    "\n",
    "focsys = np.matmul(optic,basesys)\n",
    "system = np.matmul(propg,focsys)\n",
    "\n",
    "\n",
    "baseray = np.array([[.1,.2],\n",
    "                    [.1,.2],\n",
    "                    [0,0],\n",
    "                    [0,0]])\n",
    "\n",
    "propray = np.matmul(system,baseray)\n",
    "propray"
   ]
  },
  {
   "cell_type": "code",
   "execution_count": null,
   "metadata": {},
   "outputs": [],
   "source": []
  }
 ],
 "metadata": {
  "kernelspec": {
   "display_name": "Python 3",
   "language": "python",
   "name": "python3"
  },
  "language_info": {
   "codemirror_mode": {
    "name": "ipython",
    "version": 3
   },
   "file_extension": ".py",
   "mimetype": "text/x-python",
   "name": "python",
   "nbconvert_exporter": "python",
   "pygments_lexer": "ipython3",
   "version": "3.7.6"
  }
 },
 "nbformat": 4,
 "nbformat_minor": 4
}
