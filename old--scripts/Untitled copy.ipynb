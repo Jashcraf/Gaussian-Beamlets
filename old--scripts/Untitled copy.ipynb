{
 "cells": [
  {
   "cell_type": "code",
   "execution_count": 16,
   "id": "feeeb99c-4236-4fa5-84cf-f46a10944e49",
   "metadata": {},
   "outputs": [],
   "source": [
    "from sympy import *"
   ]
  },
  {
   "cell_type": "code",
   "execution_count": 39,
   "id": "5a1644a8-007b-4ba6-9d0b-6ff84c6a7290",
   "metadata": {},
   "outputs": [],
   "source": [
    "x1, y1, thx1, thy1, xp1, yp1, thxp1, thyp1 = sympy.symbols('x1 y1 u1 v1 x1p y1p u1p v1p')\n",
    "\n",
    "x2, y2, thx2, thy2, xp2, yp2, thxp2, thyp2 = sympy.symbols('x2 y2 u2 v2 x2p y2p u2p v2p')\n",
    "\n",
    "x3, y3, thx3, thy3, xp3, yp3, thxp3, thyp3 = sympy.symbols('x3 y3 u3 v3 x3p y3p u3p v3p')\n",
    "\n",
    "x4, y4, thx4, thy4, xp4, yp4, thxp4, thyp4 = sympy.symbols('x4 y4 u4 v4 x4p y4p u4p v4p')\n",
    "\n",
    "Axx, Axy, Ayx, Ayy, Bxx, Bxy, Byx, Byy, Cxx, Cxy, Cyx, Cyy, Dxx, Dxy, Dyx, Dyy = sympy.symbols('A_xx A_xy A_yx A_yy B_xx B_xy B_yx B_yy C_xx C_xy C_yx C_yy D_xx D_xy D_yx D_yy')\n",
    "\n",
    "a1 = Eq(Axx*x1 + Axy*y1 + Bxx*thx1 + Bxy*thy1 , xp1)\n",
    "b1 = Eq(Ayx*x1 + Ayy*y1 + Byx*thx1 + Byy*thy1 , yp1)\n",
    "c1 = Eq(Cxx*x1 + Cxy*y1 + Dxx*thx1 + Dxy*thy1 , thxp1)\n",
    "d1 = Eq(Cyx*x1 + Cyy*y1 + Dyx*thx1 + Dyy*thy1 , thyp1)\n",
    "\n",
    "a2 = Eq(Axx*x2 + Axy*y2 + Bxx*thx2 + Bxy*thy2 , xp2)\n",
    "b2 = Eq(Ayx*x2 + Ayy*y2 + Byx*thx2 + Byy*thy2 , yp2)\n",
    "c2 = Eq(Cxx*x2 + Cxy*y2 + Dxx*thx2 + Dxy*thy2 , thxp2)\n",
    "d2 = Eq(Cyx*x2 + Cyy*y2 + Dyx*thx2 + Dyy*thy2 , thyp2)\n",
    "\n",
    "a3 = Eq(Axx*x3 + Axy*y3 + Bxx*thx3 + Bxy*thy3 , xp3)\n",
    "b3 = Eq(Ayx*x3 + Ayy*y3 + Byx*thx3 + Byy*thy3 , yp3)\n",
    "c3 = Eq(Cxx*x3 + Cxy*y3 + Dxx*thx3 + Dxy*thy3 , thxp3)\n",
    "d3 = Eq(Cyx*x3 + Cyy*y3 + Dyx*thx3 + Dyy*thy3 , thyp3)\n",
    "\n",
    "a4 = Eq(Axx*x4 + Axy*y4 + Bxx*thx4 + Bxy*thy4 , xp4)\n",
    "b4 = Eq(Ayx*x4 + Ayy*y4 + Byx*thx4 + Byy*thy4 , yp4)\n",
    "c4 = Eq(Cxx*x4 + Cxy*y4 + Dxx*thx4 + Dxy*thy4 , thxp4)\n",
    "d4 = Eq(Cyx*x4 + Cyy*y4 + Dyx*thx4 + Dyy*thy4 , thyp4)\n",
    "\n",
    "# @variables x2 y2 thx2 thy2 xp2 yp2 thxp2 thyp2 \n",
    "# @variables x3 y3 thx3 thy3 xp3 yp3 thxp3 thyp3\n",
    "# @variables x4 y4 thx4 thy4 xp4 yp4 thxp4 thyp4\n",
    "# @variables Axx Axy Ayx Ayy Bxx Bxy Byx Byy Cxx Cxy Cyx Cyy Dxx Dxy Dyx Dyy"
   ]
  },
  {
   "cell_type": "code",
   "execution_count": 40,
   "id": "b4b2a844-08ae-4c6e-b847-0588b716dfa9",
   "metadata": {},
   "outputs": [
    {
     "data": {
      "text/plain": [
       "([A_xx, A_xy, B_xx, B_xy],\n",
       " {((u1*v2*x3p*y4 - u1*v2*x4p*y3 - u1*v3*x2p*y4 + u1*v3*x4p*y2 + u1*v4*x2p*y3 - u1*v4*x3p*y2 - u2*v1*x3p*y4 + u2*v1*x4p*y3 + u2*v3*x1p*y4 - u2*v3*x4p*y1 - u2*v4*x1p*y3 + u2*v4*x3p*y1 + u3*v1*x2p*y4 - u3*v1*x4p*y2 - u3*v2*x1p*y4 + u3*v2*x4p*y1 + u3*v4*x1p*y2 - u3*v4*x2p*y1 - u4*v1*x2p*y3 + u4*v1*x3p*y2 + u4*v2*x1p*y3 - u4*v2*x3p*y1 - u4*v3*x1p*y2 + u4*v3*x2p*y1)/(u1*v2*x3*y4 - u1*v2*x4*y3 - u1*v3*x2*y4 + u1*v3*x4*y2 + u1*v4*x2*y3 - u1*v4*x3*y2 - u2*v1*x3*y4 + u2*v1*x4*y3 + u2*v3*x1*y4 - u2*v3*x4*y1 - u2*v4*x1*y3 + u2*v4*x3*y1 + u3*v1*x2*y4 - u3*v1*x4*y2 - u3*v2*x1*y4 + u3*v2*x4*y1 + u3*v4*x1*y2 - u3*v4*x2*y1 - u4*v1*x2*y3 + u4*v1*x3*y2 + u4*v2*x1*y3 - u4*v2*x3*y1 - u4*v3*x1*y2 + u4*v3*x2*y1),\n",
       "   (u1*v2*x3*x4p - u1*v2*x3p*x4 - u1*v3*x2*x4p + u1*v3*x2p*x4 + u1*v4*x2*x3p - u1*v4*x2p*x3 - u2*v1*x3*x4p + u2*v1*x3p*x4 + u2*v3*x1*x4p - u2*v3*x1p*x4 - u2*v4*x1*x3p + u2*v4*x1p*x3 + u3*v1*x2*x4p - u3*v1*x2p*x4 - u3*v2*x1*x4p + u3*v2*x1p*x4 + u3*v4*x1*x2p - u3*v4*x1p*x2 - u4*v1*x2*x3p + u4*v1*x2p*x3 + u4*v2*x1*x3p - u4*v2*x1p*x3 - u4*v3*x1*x2p + u4*v3*x1p*x2)/(u1*v2*x3*y4 - u1*v2*x4*y3 - u1*v3*x2*y4 + u1*v3*x4*y2 + u1*v4*x2*y3 - u1*v4*x3*y2 - u2*v1*x3*y4 + u2*v1*x4*y3 + u2*v3*x1*y4 - u2*v3*x4*y1 - u2*v4*x1*y3 + u2*v4*x3*y1 + u3*v1*x2*y4 - u3*v1*x4*y2 - u3*v2*x1*y4 + u3*v2*x4*y1 + u3*v4*x1*y2 - u3*v4*x2*y1 - u4*v1*x2*y3 + u4*v1*x3*y2 + u4*v2*x1*y3 - u4*v2*x3*y1 - u4*v3*x1*y2 + u4*v3*x2*y1),\n",
       "   (v1*x2*x3p*y4 - v1*x2*x4p*y3 - v1*x2p*x3*y4 + v1*x2p*x4*y3 + v1*x3*x4p*y2 - v1*x3p*x4*y2 - v2*x1*x3p*y4 + v2*x1*x4p*y3 + v2*x1p*x3*y4 - v2*x1p*x4*y3 - v2*x3*x4p*y1 + v2*x3p*x4*y1 + v3*x1*x2p*y4 - v3*x1*x4p*y2 - v3*x1p*x2*y4 + v3*x1p*x4*y2 + v3*x2*x4p*y1 - v3*x2p*x4*y1 - v4*x1*x2p*y3 + v4*x1*x3p*y2 + v4*x1p*x2*y3 - v4*x1p*x3*y2 - v4*x2*x3p*y1 + v4*x2p*x3*y1)/(u1*v2*x3*y4 - u1*v2*x4*y3 - u1*v3*x2*y4 + u1*v3*x4*y2 + u1*v4*x2*y3 - u1*v4*x3*y2 - u2*v1*x3*y4 + u2*v1*x4*y3 + u2*v3*x1*y4 - u2*v3*x4*y1 - u2*v4*x1*y3 + u2*v4*x3*y1 + u3*v1*x2*y4 - u3*v1*x4*y2 - u3*v2*x1*y4 + u3*v2*x4*y1 + u3*v4*x1*y2 - u3*v4*x2*y1 - u4*v1*x2*y3 + u4*v1*x3*y2 + u4*v2*x1*y3 - u4*v2*x3*y1 - u4*v3*x1*y2 + u4*v3*x2*y1),\n",
       "   (-u1*x2*x3p*y4 + u1*x2*x4p*y3 + u1*x2p*x3*y4 - u1*x2p*x4*y3 - u1*x3*x4p*y2 + u1*x3p*x4*y2 + u2*x1*x3p*y4 - u2*x1*x4p*y3 - u2*x1p*x3*y4 + u2*x1p*x4*y3 + u2*x3*x4p*y1 - u2*x3p*x4*y1 - u3*x1*x2p*y4 + u3*x1*x4p*y2 + u3*x1p*x2*y4 - u3*x1p*x4*y2 - u3*x2*x4p*y1 + u3*x2p*x4*y1 + u4*x1*x2p*y3 - u4*x1*x3p*y2 - u4*x1p*x2*y3 + u4*x1p*x3*y2 + u4*x2*x3p*y1 - u4*x2p*x3*y1)/(u1*v2*x3*y4 - u1*v2*x4*y3 - u1*v3*x2*y4 + u1*v3*x4*y2 + u1*v4*x2*y3 - u1*v4*x3*y2 - u2*v1*x3*y4 + u2*v1*x4*y3 + u2*v3*x1*y4 - u2*v3*x4*y1 - u2*v4*x1*y3 + u2*v4*x3*y1 + u3*v1*x2*y4 - u3*v1*x4*y2 - u3*v2*x1*y4 + u3*v2*x4*y1 + u3*v4*x1*y2 - u3*v4*x2*y1 - u4*v1*x2*y3 + u4*v1*x3*y2 + u4*v2*x1*y3 - u4*v2*x3*y1 - u4*v3*x1*y2 + u4*v3*x2*y1))})"
      ]
     },
     "execution_count": 40,
     "metadata": {},
     "output_type": "execute_result"
    }
   ],
   "source": [
    "# Solve for parameters through xp\n",
    "solns = sympy.solve([a1,a2,a3,a4],[Axx,Axy,Bxx,Bxy],simplify=True,set=True)\n",
    "solns"
   ]
  },
  {
   "cell_type": "code",
   "execution_count": null,
   "id": "9fdd418e-49ff-49af-b01a-234849df0c3f",
   "metadata": {},
   "outputs": [],
   "source": []
  },
  {
   "cell_type": "code",
   "execution_count": 41,
   "id": "ba337b35-3dc8-4b80-9fb3-86ab0919ea14",
   "metadata": {},
   "outputs": [
    {
     "data": {
      "text/plain": [
       "([A_yx, A_yy, B_yx, B_yy],\n",
       " {((-u1*v2*y3*y4p + u1*v2*y3p*y4 + u1*v3*y2*y4p - u1*v3*y2p*y4 - u1*v4*y2*y3p + u1*v4*y2p*y3 + u2*v1*y3*y4p - u2*v1*y3p*y4 - u2*v3*y1*y4p + u2*v3*y1p*y4 + u2*v4*y1*y3p - u2*v4*y1p*y3 - u3*v1*y2*y4p + u3*v1*y2p*y4 + u3*v2*y1*y4p - u3*v2*y1p*y4 - u3*v4*y1*y2p + u3*v4*y1p*y2 + u4*v1*y2*y3p - u4*v1*y2p*y3 - u4*v2*y1*y3p + u4*v2*y1p*y3 + u4*v3*y1*y2p - u4*v3*y1p*y2)/(u1*v2*x3*y4 - u1*v2*x4*y3 - u1*v3*x2*y4 + u1*v3*x4*y2 + u1*v4*x2*y3 - u1*v4*x3*y2 - u2*v1*x3*y4 + u2*v1*x4*y3 + u2*v3*x1*y4 - u2*v3*x4*y1 - u2*v4*x1*y3 + u2*v4*x3*y1 + u3*v1*x2*y4 - u3*v1*x4*y2 - u3*v2*x1*y4 + u3*v2*x4*y1 + u3*v4*x1*y2 - u3*v4*x2*y1 - u4*v1*x2*y3 + u4*v1*x3*y2 + u4*v2*x1*y3 - u4*v2*x3*y1 - u4*v3*x1*y2 + u4*v3*x2*y1),\n",
       "   (u1*v2*x3*y4p - u1*v2*x4*y3p - u1*v3*x2*y4p + u1*v3*x4*y2p + u1*v4*x2*y3p - u1*v4*x3*y2p - u2*v1*x3*y4p + u2*v1*x4*y3p + u2*v3*x1*y4p - u2*v3*x4*y1p - u2*v4*x1*y3p + u2*v4*x3*y1p + u3*v1*x2*y4p - u3*v1*x4*y2p - u3*v2*x1*y4p + u3*v2*x4*y1p + u3*v4*x1*y2p - u3*v4*x2*y1p - u4*v1*x2*y3p + u4*v1*x3*y2p + u4*v2*x1*y3p - u4*v2*x3*y1p - u4*v3*x1*y2p + u4*v3*x2*y1p)/(u1*v2*x3*y4 - u1*v2*x4*y3 - u1*v3*x2*y4 + u1*v3*x4*y2 + u1*v4*x2*y3 - u1*v4*x3*y2 - u2*v1*x3*y4 + u2*v1*x4*y3 + u2*v3*x1*y4 - u2*v3*x4*y1 - u2*v4*x1*y3 + u2*v4*x3*y1 + u3*v1*x2*y4 - u3*v1*x4*y2 - u3*v2*x1*y4 + u3*v2*x4*y1 + u3*v4*x1*y2 - u3*v4*x2*y1 - u4*v1*x2*y3 + u4*v1*x3*y2 + u4*v2*x1*y3 - u4*v2*x3*y1 - u4*v3*x1*y2 + u4*v3*x2*y1),\n",
       "   (-v1*x2*y3*y4p + v1*x2*y3p*y4 + v1*x3*y2*y4p - v1*x3*y2p*y4 - v1*x4*y2*y3p + v1*x4*y2p*y3 + v2*x1*y3*y4p - v2*x1*y3p*y4 - v2*x3*y1*y4p + v2*x3*y1p*y4 + v2*x4*y1*y3p - v2*x4*y1p*y3 - v3*x1*y2*y4p + v3*x1*y2p*y4 + v3*x2*y1*y4p - v3*x2*y1p*y4 - v3*x4*y1*y2p + v3*x4*y1p*y2 + v4*x1*y2*y3p - v4*x1*y2p*y3 - v4*x2*y1*y3p + v4*x2*y1p*y3 + v4*x3*y1*y2p - v4*x3*y1p*y2)/(u1*v2*x3*y4 - u1*v2*x4*y3 - u1*v3*x2*y4 + u1*v3*x4*y2 + u1*v4*x2*y3 - u1*v4*x3*y2 - u2*v1*x3*y4 + u2*v1*x4*y3 + u2*v3*x1*y4 - u2*v3*x4*y1 - u2*v4*x1*y3 + u2*v4*x3*y1 + u3*v1*x2*y4 - u3*v1*x4*y2 - u3*v2*x1*y4 + u3*v2*x4*y1 + u3*v4*x1*y2 - u3*v4*x2*y1 - u4*v1*x2*y3 + u4*v1*x3*y2 + u4*v2*x1*y3 - u4*v2*x3*y1 - u4*v3*x1*y2 + u4*v3*x2*y1),\n",
       "   (u1*x2*y3*y4p - u1*x2*y3p*y4 - u1*x3*y2*y4p + u1*x3*y2p*y4 + u1*x4*y2*y3p - u1*x4*y2p*y3 - u2*x1*y3*y4p + u2*x1*y3p*y4 + u2*x3*y1*y4p - u2*x3*y1p*y4 - u2*x4*y1*y3p + u2*x4*y1p*y3 + u3*x1*y2*y4p - u3*x1*y2p*y4 - u3*x2*y1*y4p + u3*x2*y1p*y4 + u3*x4*y1*y2p - u3*x4*y1p*y2 - u4*x1*y2*y3p + u4*x1*y2p*y3 + u4*x2*y1*y3p - u4*x2*y1p*y3 - u4*x3*y1*y2p + u4*x3*y1p*y2)/(u1*v2*x3*y4 - u1*v2*x4*y3 - u1*v3*x2*y4 + u1*v3*x4*y2 + u1*v4*x2*y3 - u1*v4*x3*y2 - u2*v1*x3*y4 + u2*v1*x4*y3 + u2*v3*x1*y4 - u2*v3*x4*y1 - u2*v4*x1*y3 + u2*v4*x3*y1 + u3*v1*x2*y4 - u3*v1*x4*y2 - u3*v2*x1*y4 + u3*v2*x4*y1 + u3*v4*x1*y2 - u3*v4*x2*y1 - u4*v1*x2*y3 + u4*v1*x3*y2 + u4*v2*x1*y3 - u4*v2*x3*y1 - u4*v3*x1*y2 + u4*v3*x2*y1))})"
      ]
     },
     "execution_count": 41,
     "metadata": {},
     "output_type": "execute_result"
    }
   ],
   "source": [
    "# solve for parameters through yp\n",
    "solns = sympy.solve([b1,b2,b3,b4],[Ayx,Ayy,Byx,Byy],simplify=True,set=True)\n",
    "solns"
   ]
  },
  {
   "cell_type": "code",
   "execution_count": null,
   "id": "83a5b0ba-f8e3-41d5-b736-2c9012368ebc",
   "metadata": {},
   "outputs": [],
   "source": []
  },
  {
   "cell_type": "code",
   "execution_count": 42,
   "id": "c55a6712-2194-4304-95f5-591b926c53a0",
   "metadata": {},
   "outputs": [
    {
     "data": {
      "text/plain": [
       "([C_xx, C_xy, D_xx, D_xy],\n",
       " {((-u1*u2p*v3*y4 + u1*u2p*v4*y3 + u1*u3p*v2*y4 - u1*u3p*v4*y2 - u1*u4p*v2*y3 + u1*u4p*v3*y2 + u1p*u2*v3*y4 - u1p*u2*v4*y3 - u1p*u3*v2*y4 + u1p*u3*v4*y2 + u1p*u4*v2*y3 - u1p*u4*v3*y2 - u2*u3p*v1*y4 + u2*u3p*v4*y1 + u2*u4p*v1*y3 - u2*u4p*v3*y1 + u2p*u3*v1*y4 - u2p*u3*v4*y1 - u2p*u4*v1*y3 + u2p*u4*v3*y1 - u3*u4p*v1*y2 + u3*u4p*v2*y1 + u3p*u4*v1*y2 - u3p*u4*v2*y1)/(u1*v2*x3*y4 - u1*v2*x4*y3 - u1*v3*x2*y4 + u1*v3*x4*y2 + u1*v4*x2*y3 - u1*v4*x3*y2 - u2*v1*x3*y4 + u2*v1*x4*y3 + u2*v3*x1*y4 - u2*v3*x4*y1 - u2*v4*x1*y3 + u2*v4*x3*y1 + u3*v1*x2*y4 - u3*v1*x4*y2 - u3*v2*x1*y4 + u3*v2*x4*y1 + u3*v4*x1*y2 - u3*v4*x2*y1 - u4*v1*x2*y3 + u4*v1*x3*y2 + u4*v2*x1*y3 - u4*v2*x3*y1 - u4*v3*x1*y2 + u4*v3*x2*y1),\n",
       "   (u1*u2p*v3*x4 - u1*u2p*v4*x3 - u1*u3p*v2*x4 + u1*u3p*v4*x2 + u1*u4p*v2*x3 - u1*u4p*v3*x2 - u1p*u2*v3*x4 + u1p*u2*v4*x3 + u1p*u3*v2*x4 - u1p*u3*v4*x2 - u1p*u4*v2*x3 + u1p*u4*v3*x2 + u2*u3p*v1*x4 - u2*u3p*v4*x1 - u2*u4p*v1*x3 + u2*u4p*v3*x1 - u2p*u3*v1*x4 + u2p*u3*v4*x1 + u2p*u4*v1*x3 - u2p*u4*v3*x1 + u3*u4p*v1*x2 - u3*u4p*v2*x1 - u3p*u4*v1*x2 + u3p*u4*v2*x1)/(u1*v2*x3*y4 - u1*v2*x4*y3 - u1*v3*x2*y4 + u1*v3*x4*y2 + u1*v4*x2*y3 - u1*v4*x3*y2 - u2*v1*x3*y4 + u2*v1*x4*y3 + u2*v3*x1*y4 - u2*v3*x4*y1 - u2*v4*x1*y3 + u2*v4*x3*y1 + u3*v1*x2*y4 - u3*v1*x4*y2 - u3*v2*x1*y4 + u3*v2*x4*y1 + u3*v4*x1*y2 - u3*v4*x2*y1 - u4*v1*x2*y3 + u4*v1*x3*y2 + u4*v2*x1*y3 - u4*v2*x3*y1 - u4*v3*x1*y2 + u4*v3*x2*y1),\n",
       "   (u1p*v2*x3*y4 - u1p*v2*x4*y3 - u1p*v3*x2*y4 + u1p*v3*x4*y2 + u1p*v4*x2*y3 - u1p*v4*x3*y2 - u2p*v1*x3*y4 + u2p*v1*x4*y3 + u2p*v3*x1*y4 - u2p*v3*x4*y1 - u2p*v4*x1*y3 + u2p*v4*x3*y1 + u3p*v1*x2*y4 - u3p*v1*x4*y2 - u3p*v2*x1*y4 + u3p*v2*x4*y1 + u3p*v4*x1*y2 - u3p*v4*x2*y1 - u4p*v1*x2*y3 + u4p*v1*x3*y2 + u4p*v2*x1*y3 - u4p*v2*x3*y1 - u4p*v3*x1*y2 + u4p*v3*x2*y1)/(u1*v2*x3*y4 - u1*v2*x4*y3 - u1*v3*x2*y4 + u1*v3*x4*y2 + u1*v4*x2*y3 - u1*v4*x3*y2 - u2*v1*x3*y4 + u2*v1*x4*y3 + u2*v3*x1*y4 - u2*v3*x4*y1 - u2*v4*x1*y3 + u2*v4*x3*y1 + u3*v1*x2*y4 - u3*v1*x4*y2 - u3*v2*x1*y4 + u3*v2*x4*y1 + u3*v4*x1*y2 - u3*v4*x2*y1 - u4*v1*x2*y3 + u4*v1*x3*y2 + u4*v2*x1*y3 - u4*v2*x3*y1 - u4*v3*x1*y2 + u4*v3*x2*y1),\n",
       "   (u1*u2p*x3*y4 - u1*u2p*x4*y3 - u1*u3p*x2*y4 + u1*u3p*x4*y2 + u1*u4p*x2*y3 - u1*u4p*x3*y2 - u1p*u2*x3*y4 + u1p*u2*x4*y3 + u1p*u3*x2*y4 - u1p*u3*x4*y2 - u1p*u4*x2*y3 + u1p*u4*x3*y2 + u2*u3p*x1*y4 - u2*u3p*x4*y1 - u2*u4p*x1*y3 + u2*u4p*x3*y1 - u2p*u3*x1*y4 + u2p*u3*x4*y1 + u2p*u4*x1*y3 - u2p*u4*x3*y1 + u3*u4p*x1*y2 - u3*u4p*x2*y1 - u3p*u4*x1*y2 + u3p*u4*x2*y1)/(u1*v2*x3*y4 - u1*v2*x4*y3 - u1*v3*x2*y4 + u1*v3*x4*y2 + u1*v4*x2*y3 - u1*v4*x3*y2 - u2*v1*x3*y4 + u2*v1*x4*y3 + u2*v3*x1*y4 - u2*v3*x4*y1 - u2*v4*x1*y3 + u2*v4*x3*y1 + u3*v1*x2*y4 - u3*v1*x4*y2 - u3*v2*x1*y4 + u3*v2*x4*y1 + u3*v4*x1*y2 - u3*v4*x2*y1 - u4*v1*x2*y3 + u4*v1*x3*y2 + u4*v2*x1*y3 - u4*v2*x3*y1 - u4*v3*x1*y2 + u4*v3*x2*y1))})"
      ]
     },
     "execution_count": 42,
     "metadata": {},
     "output_type": "execute_result"
    }
   ],
   "source": [
    "# solve for parameters through thxp\n",
    "solns = sympy.solve([c1,c2,c3,c4],[Cxx,Cxy,Dxx,Dxy],simplify=True,set=True)\n",
    "solns"
   ]
  },
  {
   "cell_type": "code",
   "execution_count": 43,
   "id": "8595691b-d055-4865-9e0c-bb9843c2a152",
   "metadata": {},
   "outputs": [
    {
     "data": {
      "text/plain": [
       "([C_yx, C_yy, D_yx, D_yy],\n",
       " {((u1*v2*v3p*y4 - u1*v2*v4p*y3 - u1*v2p*v3*y4 + u1*v2p*v4*y3 + u1*v3*v4p*y2 - u1*v3p*v4*y2 - u2*v1*v3p*y4 + u2*v1*v4p*y3 + u2*v1p*v3*y4 - u2*v1p*v4*y3 - u2*v3*v4p*y1 + u2*v3p*v4*y1 + u3*v1*v2p*y4 - u3*v1*v4p*y2 - u3*v1p*v2*y4 + u3*v1p*v4*y2 + u3*v2*v4p*y1 - u3*v2p*v4*y1 - u4*v1*v2p*y3 + u4*v1*v3p*y2 + u4*v1p*v2*y3 - u4*v1p*v3*y2 - u4*v2*v3p*y1 + u4*v2p*v3*y1)/(u1*v2*x3*y4 - u1*v2*x4*y3 - u1*v3*x2*y4 + u1*v3*x4*y2 + u1*v4*x2*y3 - u1*v4*x3*y2 - u2*v1*x3*y4 + u2*v1*x4*y3 + u2*v3*x1*y4 - u2*v3*x4*y1 - u2*v4*x1*y3 + u2*v4*x3*y1 + u3*v1*x2*y4 - u3*v1*x4*y2 - u3*v2*x1*y4 + u3*v2*x4*y1 + u3*v4*x1*y2 - u3*v4*x2*y1 - u4*v1*x2*y3 + u4*v1*x3*y2 + u4*v2*x1*y3 - u4*v2*x3*y1 - u4*v3*x1*y2 + u4*v3*x2*y1),\n",
       "   (-u1*v2*v3p*x4 + u1*v2*v4p*x3 + u1*v2p*v3*x4 - u1*v2p*v4*x3 - u1*v3*v4p*x2 + u1*v3p*v4*x2 + u2*v1*v3p*x4 - u2*v1*v4p*x3 - u2*v1p*v3*x4 + u2*v1p*v4*x3 + u2*v3*v4p*x1 - u2*v3p*v4*x1 - u3*v1*v2p*x4 + u3*v1*v4p*x2 + u3*v1p*v2*x4 - u3*v1p*v4*x2 - u3*v2*v4p*x1 + u3*v2p*v4*x1 + u4*v1*v2p*x3 - u4*v1*v3p*x2 - u4*v1p*v2*x3 + u4*v1p*v3*x2 + u4*v2*v3p*x1 - u4*v2p*v3*x1)/(u1*v2*x3*y4 - u1*v2*x4*y3 - u1*v3*x2*y4 + u1*v3*x4*y2 + u1*v4*x2*y3 - u1*v4*x3*y2 - u2*v1*x3*y4 + u2*v1*x4*y3 + u2*v3*x1*y4 - u2*v3*x4*y1 - u2*v4*x1*y3 + u2*v4*x3*y1 + u3*v1*x2*y4 - u3*v1*x4*y2 - u3*v2*x1*y4 + u3*v2*x4*y1 + u3*v4*x1*y2 - u3*v4*x2*y1 - u4*v1*x2*y3 + u4*v1*x3*y2 + u4*v2*x1*y3 - u4*v2*x3*y1 - u4*v3*x1*y2 + u4*v3*x2*y1),\n",
       "   (-v1*v2p*x3*y4 + v1*v2p*x4*y3 + v1*v3p*x2*y4 - v1*v3p*x4*y2 - v1*v4p*x2*y3 + v1*v4p*x3*y2 + v1p*v2*x3*y4 - v1p*v2*x4*y3 - v1p*v3*x2*y4 + v1p*v3*x4*y2 + v1p*v4*x2*y3 - v1p*v4*x3*y2 - v2*v3p*x1*y4 + v2*v3p*x4*y1 + v2*v4p*x1*y3 - v2*v4p*x3*y1 + v2p*v3*x1*y4 - v2p*v3*x4*y1 - v2p*v4*x1*y3 + v2p*v4*x3*y1 - v3*v4p*x1*y2 + v3*v4p*x2*y1 + v3p*v4*x1*y2 - v3p*v4*x2*y1)/(u1*v2*x3*y4 - u1*v2*x4*y3 - u1*v3*x2*y4 + u1*v3*x4*y2 + u1*v4*x2*y3 - u1*v4*x3*y2 - u2*v1*x3*y4 + u2*v1*x4*y3 + u2*v3*x1*y4 - u2*v3*x4*y1 - u2*v4*x1*y3 + u2*v4*x3*y1 + u3*v1*x2*y4 - u3*v1*x4*y2 - u3*v2*x1*y4 + u3*v2*x4*y1 + u3*v4*x1*y2 - u3*v4*x2*y1 - u4*v1*x2*y3 + u4*v1*x3*y2 + u4*v2*x1*y3 - u4*v2*x3*y1 - u4*v3*x1*y2 + u4*v3*x2*y1),\n",
       "   (u1*v2p*x3*y4 - u1*v2p*x4*y3 - u1*v3p*x2*y4 + u1*v3p*x4*y2 + u1*v4p*x2*y3 - u1*v4p*x3*y2 - u2*v1p*x3*y4 + u2*v1p*x4*y3 + u2*v3p*x1*y4 - u2*v3p*x4*y1 - u2*v4p*x1*y3 + u2*v4p*x3*y1 + u3*v1p*x2*y4 - u3*v1p*x4*y2 - u3*v2p*x1*y4 + u3*v2p*x4*y1 + u3*v4p*x1*y2 - u3*v4p*x2*y1 - u4*v1p*x2*y3 + u4*v1p*x3*y2 + u4*v2p*x1*y3 - u4*v2p*x3*y1 - u4*v3p*x1*y2 + u4*v3p*x2*y1)/(u1*v2*x3*y4 - u1*v2*x4*y3 - u1*v3*x2*y4 + u1*v3*x4*y2 + u1*v4*x2*y3 - u1*v4*x3*y2 - u2*v1*x3*y4 + u2*v1*x4*y3 + u2*v3*x1*y4 - u2*v3*x4*y1 - u2*v4*x1*y3 + u2*v4*x3*y1 + u3*v1*x2*y4 - u3*v1*x4*y2 - u3*v2*x1*y4 + u3*v2*x4*y1 + u3*v4*x1*y2 - u3*v4*x2*y1 - u4*v1*x2*y3 + u4*v1*x3*y2 + u4*v2*x1*y3 - u4*v2*x3*y1 - u4*v3*x1*y2 + u4*v3*x2*y1))})"
      ]
     },
     "execution_count": 43,
     "metadata": {},
     "output_type": "execute_result"
    }
   ],
   "source": [
    "# solve for parameters through thyp\n",
    "solns = sympy.solve([d1,d2,d3,d4],[Cyx,Cyy,Dyx,Dyy],simplify=True,set=True)\n",
    "solns"
   ]
  },
  {
   "cell_type": "code",
   "execution_count": null,
   "id": "9a1229b0-5b74-4a99-9d72-6169196e1da3",
   "metadata": {},
   "outputs": [],
   "source": []
  }
 ],
 "metadata": {
  "kernelspec": {
   "display_name": "Python 3 (ipykernel)",
   "language": "python",
   "name": "python3"
  },
  "language_info": {
   "codemirror_mode": {
    "name": "ipython",
    "version": 3
   },
   "file_extension": ".py",
   "mimetype": "text/x-python",
   "name": "python",
   "nbconvert_exporter": "python",
   "pygments_lexer": "ipython3",
   "version": "3.9.7"
  }
 },
 "nbformat": 4,
 "nbformat_minor": 5
}
