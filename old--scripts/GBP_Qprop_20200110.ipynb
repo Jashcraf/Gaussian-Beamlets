{
 "cells": [
  {
   "cell_type": "code",
   "execution_count": 10,
   "metadata": {},
   "outputs": [
    {
     "name": "stdout",
     "output_type": "stream",
     "text": [
      "22.727272727272727 Fresnel Number\n",
      "0.1 Beam Waist\n",
      "45454.545454545456 waves\n"
     ]
    }
   ],
   "source": [
    "import numpy as np\n",
    "import matplotlib.pyplot as plt\n",
    "import poppy\n",
    "\n",
    "# Propogate Divergence & Waist Rays of Gaussian Beamlets - NONastigmatic beamlets\n",
    "\n",
    "# System Parameters\n",
    "wl     = 2.2e-6 # wavelength\n",
    "d      = 5e3        # propagation distance\n",
    "f      = 1e50     # focal length\n",
    "n      = 1         # refractive index (add support later)\n",
    "sample = 2048       # number of detector pixels across\n",
    "amax   = 5e-1     # maximum aperture radius\n",
    "amin   = 0      # minimum aperture radius\n",
    "\n",
    "# Configure system matrix - one grid of waist rays, one grid of divergence rays?\n",
    "OF = 2    # overlap factor\n",
    "W  = amax # width of grid\n",
    "N  = 10   # number of beams zacross the grid\n",
    "\n",
    "# Preliminary calculations\n",
    "gs = (W/N)*OF         # grid spacing, also the beam waist @origin\n",
    "wo = gs               # beam waist = grid spacing\n",
    "Zr = (np.pi*wo**2)/wl # Rayleigh range\n",
    "k  = 2*np.pi/wl\n",
    "\n",
    "print(amax**2 / (d*wl),'Fresnel Number')\n",
    "print(wo,'Beam Waist')\n",
    "print(wo/wl,'waves')"
   ]
  },
  {
   "cell_type": "code",
   "execution_count": 9,
   "metadata": {},
   "outputs": [
    {
     "name": "stdout",
     "output_type": "stream",
     "text": [
      "[[0.+14279.96660723j 0.+14279.96660723j 0.+14279.96660723j\n",
      "  0.+14279.96660723j 0.+14279.96660723j 0.+14279.96660723j\n",
      "  0.+14279.96660723j 0.+14279.96660723j 0.+14279.96660723j\n",
      "  0.+14279.96660723j]\n",
      " [0.+14279.96660723j 0.+14279.96660723j 0.+14279.96660723j\n",
      "  0.+14279.96660723j 0.+14279.96660723j 0.+14279.96660723j\n",
      "  0.+14279.96660723j 0.+14279.96660723j 0.+14279.96660723j\n",
      "  0.+14279.96660723j]\n",
      " [0.+14279.96660723j 0.+14279.96660723j 0.+14279.96660723j\n",
      "  0.+14279.96660723j 0.+14279.96660723j 0.+14279.96660723j\n",
      "  0.+14279.96660723j 0.+14279.96660723j 0.+14279.96660723j\n",
      "  0.+14279.96660723j]\n",
      " [0.+14279.96660723j 0.+14279.96660723j 0.+14279.96660723j\n",
      "  0.+14279.96660723j 0.+14279.96660723j 0.+14279.96660723j\n",
      "  0.+14279.96660723j 0.+14279.96660723j 0.+14279.96660723j\n",
      "  0.+14279.96660723j]\n",
      " [0.+14279.96660723j 0.+14279.96660723j 0.+14279.96660723j\n",
      "  0.+14279.96660723j 0.+14279.96660723j 0.+14279.96660723j\n",
      "  0.+14279.96660723j 0.+14279.96660723j 0.+14279.96660723j\n",
      "  0.+14279.96660723j]\n",
      " [0.+14279.96660723j 0.+14279.96660723j 0.+14279.96660723j\n",
      "  0.+14279.96660723j 0.+14279.96660723j 0.+14279.96660723j\n",
      "  0.+14279.96660723j 0.+14279.96660723j 0.+14279.96660723j\n",
      "  0.+14279.96660723j]\n",
      " [0.+14279.96660723j 0.+14279.96660723j 0.+14279.96660723j\n",
      "  0.+14279.96660723j 0.+14279.96660723j 0.+14279.96660723j\n",
      "  0.+14279.96660723j 0.+14279.96660723j 0.+14279.96660723j\n",
      "  0.+14279.96660723j]\n",
      " [0.+14279.96660723j 0.+14279.96660723j 0.+14279.96660723j\n",
      "  0.+14279.96660723j 0.+14279.96660723j 0.+14279.96660723j\n",
      "  0.+14279.96660723j 0.+14279.96660723j 0.+14279.96660723j\n",
      "  0.+14279.96660723j]\n",
      " [0.+14279.96660723j 0.+14279.96660723j 0.+14279.96660723j\n",
      "  0.+14279.96660723j 0.+14279.96660723j 0.+14279.96660723j\n",
      "  0.+14279.96660723j 0.+14279.96660723j 0.+14279.96660723j\n",
      "  0.+14279.96660723j]\n",
      " [0.+14279.96660723j 0.+14279.96660723j 0.+14279.96660723j\n",
      "  0.+14279.96660723j 0.+14279.96660723j 0.+14279.96660723j\n",
      "  0.+14279.96660723j 0.+14279.96660723j 0.+14279.96660723j\n",
      "  0.+14279.96660723j]]\n"
     ]
    }
   ],
   "source": [
    "# Predefine empty array for ray distribution - gonna put x & y components of rays here\n",
    "x = np.linspace(-W,W,N)\n",
    "y = np.linspace(W,-W,N)\n",
    "x,y = np.meshgrid(x,y)\n",
    "\n",
    "# Configure system ABCD Matrix -> these become optical elements in future revisions\n",
    "focus = np.array([[1,0],\n",
    "                  [-1/f,1]])\n",
    "\n",
    "propg = np.array([[1,d],\n",
    "                  [0,1]])\n",
    "\n",
    "# Calculate system ABCD Matrix\n",
    "system = np.matmul(propg,focus)\n",
    "\n",
    "qmat = np.ones((N,N))*(1j*Zr)\n",
    "print(qmat)"
   ]
  },
  {
   "cell_type": "code",
   "execution_count": 1,
   "metadata": {
    "scrolled": true
   },
   "outputs": [
    {
     "name": "stdout",
     "output_type": "stream",
     "text": [
      "1.0666666666666669e-14\n"
     ]
    }
   ],
   "source": [
    "# Create an Aperture\n",
    "print(4/3 * ((1e-15)/(.5e-10))**3)"
   ]
  },
  {
   "cell_type": "code",
   "execution_count": null,
   "metadata": {},
   "outputs": [],
   "source": []
  }
 ],
 "metadata": {
  "kernelspec": {
   "display_name": "Python 3",
   "language": "python",
   "name": "python3"
  },
  "language_info": {
   "codemirror_mode": {
    "name": "ipython",
    "version": 3
   },
   "file_extension": ".py",
   "mimetype": "text/x-python",
   "name": "python",
   "nbconvert_exporter": "python",
   "pygments_lexer": "ipython3",
   "version": "3.7.3"
  }
 },
 "nbformat": 4,
 "nbformat_minor": 2
}
