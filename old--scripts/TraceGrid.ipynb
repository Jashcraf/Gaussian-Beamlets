{
 "cells": [
  {
   "cell_type": "code",
   "execution_count": 145,
   "metadata": {},
   "outputs": [
    {
     "name": "stdout",
     "output_type": "stream",
     "text": [
      "63.211125158027805 Fresnel Number\n",
      "0.002\n"
     ]
    }
   ],
   "source": [
    "import numpy as np\n",
    "import matplotlib.pyplot as plt\n",
    "\n",
    "# Propogate Divergence & Waist Rays of Gaussian Beamlets - NONastigmatic beamlets\n",
    "\n",
    "# System Parameters\n",
    "wl     = 0.6328e-6 # wavelength\n",
    "d      = .4        # propagation distance\n",
    "f      = .4      # focal length\n",
    "n      = 1         # refractive index (add support later)\n",
    "sample = 256       # number of detector pixels across\n",
    "amax   = 4e-3      # maximum aperture radius\n",
    "amin   = 1e-3      # minimum aperture radius\n",
    "\n",
    "# Configure system matrix - one grid of waist rays, one grid of divergence rays?\n",
    "OF = 1.5  # overlap factor\n",
    "W  = amax # width of grid\n",
    "N  = 3   # number of beams zacross the grid\n",
    "\n",
    "# Preliminary calculations\n",
    "gs = (W/N)*OF         # grid spacing, also the beam waist @origin\n",
    "wo = gs               # beam waist = grid spacing\n",
    "Zr = (np.pi*wo**2)/wl # Rayleigh range\n",
    "\n",
    "print(amax**2 / (d*wl),'Fresnel Number')\n",
    "print(wo)"
   ]
  },
  {
   "cell_type": "code",
   "execution_count": 146,
   "metadata": {},
   "outputs": [],
   "source": [
    "# Configure system ABCD Matrix -> these become optical elements in future revisions\n",
    "focus = np.array([[1,0],\n",
    "                  [-1/f,1]])\n",
    "\n",
    "propg = np.array([[1,d],\n",
    "                  [0,1]])\n",
    "\n",
    "# Calculate system ABCD Matrix\n",
    "system = np.matmul(propg,focus) # CHECK PROPER MULTIPLICATION ORDER\n",
    "\n",
    "# Define waist ray - unit height, no anlge\n",
    "waist = np.array([[1]\n",
    "                 ,[0]]) # top element is y, bottom element is w\n",
    "\n",
    "# Define divergence ray - unit height, divergence angle!**********************************SHOULD IT HAVE HEIGHT?\n",
    "divge = np.array([[1],\n",
    "                  [wl/(np.pi*n*wo)]]) # this is a ray SLOPE, tan(angle)\n",
    "\n",
    "# Predefine empty array for ray distribution\n",
    "x = np.linspace(-W,W,N)\n",
    "y = np.linspace(-W,W,N)\n",
    "x,y = np.meshgrid(x,y)\n",
    "\n",
    "# Calculate distance from origin\n",
    "r = np.sqrt(np.square(x)+np.square(y))\n",
    "\n",
    "# Create some empty boxes to throw our waist * divergence vectors into\n",
    "pw = np.zeros([N,N],dtype=object)\n",
    "pd = np.zeros([N,N],dtype=object)"
   ]
  },
  {
   "cell_type": "code",
   "execution_count": 147,
   "metadata": {},
   "outputs": [],
   "source": [
    "# Create array of waist rays\n",
    "for ijk in range(N):\n",
    "    for lmn in range(N):\n",
    "        pw[ijk,lmn] = waist*(r[ijk,lmn]+wo) # creates the waist ray, try eliminating wo?****************************************\n",
    "\n",
    "# Create array of divergence rays\n",
    "for abc in range(N):\n",
    "    for xyz in range(N):\n",
    "        scale = np.array([[r[abc,xyz],0],[0,1]])\n",
    "        pd[abc,xyz] = np.matmul(scale,divge)\n",
    "        \n",
    "# Create some empty boxes to throw vectors into - but this time in ~image space\n",
    "imgw = np.zeros([N,N],dtype=object)\n",
    "imgd = np.zeros([N,N],dtype=object)\n",
    "\n",
    "\n",
    "# Propagate Waist Rays\n",
    "for wxind in range(N):\n",
    "    for wyind in range(N):\n",
    "        imgw[wxind,wyind] = np.matmul(system,pw[wxind,wyind])\n",
    "        \n",
    "# Propagate Divergence Rays\n",
    "for dxind in range(N):\n",
    "    for dyind in range(N):\n",
    "        imgd[dxind,dyind] = np.matmul(system,pd[dxind,dyind])"
   ]
  },
  {
   "cell_type": "code",
   "execution_count": 148,
   "metadata": {},
   "outputs": [],
   "source": [
    "# Great so we've propagated a couple of rays for a couple of points, now turn them into gaussian beams pls!\n",
    "# Calculate resultant beam waists\n",
    "wp = np.zeros([N,N])\n",
    "for wpx in range(N):\n",
    "    for wpy in range(N):\n",
    "        imgw_pars = imgw[wpx,wpy]\n",
    "        imgd_pars = imgd[wpx,wpy]\n",
    "        wp[wpx,wpy] = np.sqrt((imgw_pars[0,0])**2 + (imgd_pars[0,0])**2) # called \"radius\" by FRED ppls, but i think its waist\n",
    "\n",
    "# Determine the distance traveled by each ray f a  m  i l y y y\n",
    "Rbox = np.zeros([N,N])# Store beam radii of curvature\n",
    "tbox = np.zeros([N,N])# store propagation distance of each beamlet\n",
    "for tx in range(N):\n",
    "    for ty in range(N):\n",
    "        wtpars = imgw[tx,ty]\n",
    "        wopars = pw[tx,ty]\n",
    "        tpars = np.sqrt((wopars[0,0]-wtpars[0,0])**2 + d**2)\n",
    "        tbox[tx,ty] = tpars\n",
    "        Rbox[tx,ty] = tpars*(1+(((np.pi*wo**2)/wl)/tpars))**2 # calculate radii of curvature"
   ]
  },
  {
   "cell_type": "code",
   "execution_count": 149,
   "metadata": {},
   "outputs": [],
   "source": [
    "# Now we have a grid of radii and a grid of waist sizes, letsa plot soma beamses\n",
    "# So you might have accidentally propagated everything with radial symmetry, which is fine for rotationally symmetric optics!\n",
    "# The only thing is you seem to have lost track of your x & y spacing, recovering these may be difficult\n",
    "# This could be accomplished, review your rays again! What do thhey look like?\n",
    "# So they have an x & y index, and a magnitude, and you know the limits - draw it out?\n",
    "u = np.linspace(-W,W,sample)\n",
    "v = np.linspace(-W,W,sample)\n",
    "u,v = np.meshgrid(u,v)\n",
    "#zuv = np.sqrt(np.square(u)+np.square(v))\n",
    "afield = np.zeros([sample,sample])\n",
    "\n",
    "pbox = np.zeros([N,N])\n",
    "\n",
    "# utilize indicies of each value to re-extract their position in the X-Y plane\n",
    "for px in range(N):\n",
    "    for py in range(N):\n",
    "        imguvw_pars = imgw[px,py]\n",
    "        #print(imguvw_pars[0,0]-wo)\n",
    "        if r[px,py] >= amin and r[px,py] < amax:\n",
    "            th = np.arctan2((py-(N/2)),(px-N/2))\n",
    "            #print(px,py)\n",
    "            p = np.square(u-(imguvw_pars[0,0]-wo)*np.cos(th))+np.square(v-(imguvw_pars[0,0]-wo)*np.sin(th)) # How to shift each beamlet?\n",
    "            realexp = np.exp(-p/(wp[px,py])**2)\n",
    "            imagexp = np.exp(1j*((2*np.pi*tbox[px,py]/wl) - np.arctan(tbox[px,py]/Zr) + (p*2*np.pi/(2*Rbox[px,py]*wl))))\n",
    "            amptude = (wo/wp[px,py])\n",
    "            afield = afield + amptude*realexp*imagexp"
   ]
  },
  {
   "cell_type": "code",
   "execution_count": 150,
   "metadata": {},
   "outputs": [
    {
     "name": "stderr",
     "output_type": "stream",
     "text": [
      "C:\\Users\\Jaren\\Anaconda3\\lib\\site-packages\\ipykernel_launcher.py:4: RuntimeWarning: divide by zero encountered in log\n",
      "  after removing the cwd from sys.path.\n"
     ]
    },
    {
     "data": {
      "image/png": "[encoded data removed]",
      "text/plain": [
       "<Figure size 720x720 with 2 Axes>"
      ]
     },
     "metadata": {
      "needs_background": "light"
     },
     "output_type": "display_data"
    },
    {
     "data": {
      "image/png": "[encoded data removed]",
      "text/plain": [
       "<Figure size 504x504 with 1 Axes>"
      ]
     },
     "metadata": {
      "needs_background": "light"
     },
     "output_type": "display_data"
    }
   ],
   "source": [
    "# Just the plot cell\n",
    "Ifield = (np.real(afield*np.conj(afield)))\n",
    "plt.figure(figsize=[10,10])\n",
    "plt.pcolor(u,v,np.log(Ifield))\n",
    "plt.colorbar()\n",
    "plt.show()\n",
    "\n",
    "u = np.linspace(-W,W,sample)\n",
    "\n",
    "plt.figure(figsize=[7,7])\n",
    "plt.plot(u,Ifield[128,:])\n",
    "plt.show()\n",
    "              "
   ]
  },
  {
   "cell_type": "code",
   "execution_count": 65,
   "metadata": {},
   "outputs": [
    {
     "name": "stdout",
     "output_type": "stream",
     "text": [
      "1 0 0\n",
      "2 0 1\n",
      "3 1 0\n",
      "4 1 1\n"
     ]
    }
   ],
   "source": [
    "# Test python indexing\n",
    "a = np.array([[1,2],[3,4]])\n",
    "for ijk in range(2):\n",
    "    for abc in range(2):\n",
    "        print(a[ijk,abc],ijk,abc)"
   ]
  },
  {
   "cell_type": "code",
   "execution_count": 80,
   "metadata": {},
   "outputs": [
    {
     "name": "stdout",
     "output_type": "stream",
     "text": [
      "2\n"
     ]
    }
   ],
   "source": [
    "print(N)"
   ]
  },
  {
   "cell_type": "code",
   "execution_count": null,
   "metadata": {},
   "outputs": [],
   "source": []
  }
 ],
 "metadata": {
  "kernelspec": {
   "display_name": "Python 3",
   "language": "python",
   "name": "python3"
  },
  "language_info": {
   "codemirror_mode": {
    "name": "ipython",
    "version": 3
   },
   "file_extension": ".py",
   "mimetype": "text/x-python",
   "name": "python",
   "nbconvert_exporter": "python",
   "pygments_lexer": "ipython3",
   "version": "3.7.3"
  }
 },
 "nbformat": 4,
 "nbformat_minor": 2
}
