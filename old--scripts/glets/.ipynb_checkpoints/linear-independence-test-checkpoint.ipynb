{
 "cells": [
  {
   "cell_type": "code",
   "execution_count": 2,
   "id": "1b579445-c4cb-4c2c-b75b-6ff235de0417",
   "metadata": {},
   "outputs": [],
   "source": [
    "import numpy as np"
   ]
  },
  {
   "cell_type": "code",
   "execution_count": 3,
   "id": "d93f48fe-8ba9-4487-ad58-3b28b552dd97",
   "metadata": {},
   "outputs": [],
   "source": [
    "ranklist = []\n",
    "x = np.linspace(-1,1,100)\n",
    "y = np.linspace(-1,1,100)\n",
    "u = np.linspace(-1,1,100)\n",
    "v = np.linspace(-1,1,100)\n",
    "d = 3\n",
    "dx = 1e-6\n",
    "\n",
    "osys = np.array([[0,0,3,0],\n",
    "                 [0,0,0,3],\n",
    "                 [-1/3,0,1,0],\n",
    "                 [0,-1/3,0,1]])\n",
    "\n",
    "for xind in range(100):\n",
    "    for yind in range(100):\n",
    "        ray = np.array([x[xind],\n",
    "                        y[yind],\n",
    "                        0,\n",
    "                        0])\n",
    "        ray0 = np.array([dx,0,0,-dx]) + ray\n",
    "        ray1 = np.array([-dx,dx,-dx,0]) + ray\n",
    "        ray2 = np.array([dx,-dx,dx,dx]) + ray\n",
    "        ray3 = np.array([dx,0,dx,dx]) + ray\n",
    "        raymat = np.transpose(np.array([ray0,ray1,ray2,ray3]))\n",
    "        ranklist.append(np.linalg.matrix_rank(raymat))"
   ]
  },
  {
   "cell_type": "code",
   "execution_count": 4,
   "id": "5ecd425e-03d6-4bcc-b6b6-79400d906e0a",
   "metadata": {},
   "outputs": [
    {
     "data": {
      "text/plain": [
       "[<matplotlib.lines.Line2D at 0x7fa4b25bfbe0>]"
      ]
     },
     "execution_count": 4,
     "metadata": {},
     "output_type": "execute_result"
    },
    {
     "data": {
      "image/png": "[encoded data removed]",
      "text/plain": [
       "<Figure size 432x288 with 1 Axes>"
      ]
     },
     "metadata": {
      "needs_background": "light"
     },
     "output_type": "display_data"
    }
   ],
   "source": [
    "import matplotlib.pyplot as plt\n",
    "\n",
    "plt.figure()\n",
    "plt.plot(ranklist,label='matrix rank')\n"
   ]
  },
  {
   "cell_type": "code",
   "execution_count": 11,
   "id": "8c6ee23d-d177-4025-8ee2-c96f4b992cdd",
   "metadata": {},
   "outputs": [
    {
     "data": {
      "text/plain": [
       "array([[ 0.        ,  0.        ,  3.        ,  0.        ],\n",
       "       [ 0.        ,  0.        ,  0.        ,  3.        ],\n",
       "       [-0.33333333,  0.        ,  1.        ,  0.        ],\n",
       "       [ 0.        , -0.33333333,  0.        ,  1.        ]])"
      ]
     },
     "execution_count": 11,
     "metadata": {},
     "output_type": "execute_result"
    }
   ],
   "source": [
    "np.matmul(rayout,np.linalg.inv(raymat))"
   ]
  },
  {
   "cell_type": "code",
   "execution_count": null,
   "id": "c3a232af-00fd-41b3-8308-7e0a6126d424",
   "metadata": {},
   "outputs": [],
   "source": []
  }
 ],
 "metadata": {
  "kernelspec": {
   "display_name": "Python 3 (ipykernel)",
   "language": "python",
   "name": "python3"
  },
  "language_info": {
   "codemirror_mode": {
    "name": "ipython",
    "version": 3
   },
   "file_extension": ".py",
   "mimetype": "text/x-python",
   "name": "python",
   "nbconvert_exporter": "python",
   "pygments_lexer": "ipython3",
   "version": "3.9.7"
  }
 },
 "nbformat": 4,
 "nbformat_minor": 5
}
